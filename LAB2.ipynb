{
  "nbformat": 4,
  "nbformat_minor": 0,
  "metadata": {
    "colab": {
      "name": "LAB2.ipynb",
      "provenance": [],
      "authorship_tag": "ABX9TyOhpAhJKsH+uLBd7pARxxsV",
      "include_colab_link": true
    },
    "kernelspec": {
      "name": "python3",
      "display_name": "Python 3"
    },
    "language_info": {
      "name": "python"
    }
  },
  "cells": [
    {
      "cell_type": "markdown",
      "metadata": {
        "id": "view-in-github",
        "colab_type": "text"
      },
      "source": [
        "<a href=\"https://colab.research.google.com/github/Koshi1321/Linear-Algebra_2nd-Sem/blob/main/LAB2.ipynb\" target=\"_parent\"><img src=\"https://colab.research.google.com/assets/colab-badge.svg\" alt=\"Open In Colab\"/></a>"
      ]
    },
    {
      "cell_type": "markdown",
      "source": [
        "### NumPy"
      ],
      "metadata": {
        "id": "wVWpJpcwyBd6"
      }
    },
    {
      "cell_type": "markdown",
      "source": [
        "##### It stands for Numerical Python in where its main purpose is to work with arrays."
      ],
      "metadata": {
        "id": "uytsmQOHyEG0"
      }
    },
    {
      "cell_type": "markdown",
      "source": [
        "Scalars \\\\\n",
        "Represent magnitude or a single value\n",
        "\n",
        "Vectors \\\\\n",
        "Represent magnitude with directors"
      ],
      "metadata": {
        "id": "yH_LlTJI2ewh"
      }
    },
    {
      "cell_type": "markdown",
      "source": [
        "#### Representing Vectors"
      ],
      "metadata": {
        "id": "cgP-k7eM2iqJ"
      }
    },
    {
      "cell_type": "markdown",
      "source": [
        "VECTORS:\n",
        "\n",
        "$$ A = 9\\hat{x} + 6\\hat{y} \\\\\n",
        "B = 6\\hat{x} - 4\\hat{y}\\\\\n",
        "C = 1ax + 8ay - 2az \\\\\n",
        "D = 6\\hat{i} - 7\\hat{j} + 1\\hat{k}$$"
      ],
      "metadata": {
        "id": "OXW25362ImPx"
      }
    },
    {
      "cell_type": "markdown",
      "source": [
        "MATRIX:\n",
        "$$ A = \\begin{bmatrix} 9 \\\\ 6\\end{bmatrix} , B = \\begin{bmatrix} 6 \\\\ -4\\end{bmatrix} , C = \\begin{bmatrix} 1 \\\\ 8 \\\\  -2 \\end{bmatrix}, D = \\begin{bmatrix} 6 \\\\ -7 \\\\ 1\\end{bmatrix}\n",
        "$$\n",
        "$$ A = \\begin{bmatrix} 9 & 6\\end{bmatrix} , B = \\begin{bmatrix} 6 & -4\\end{bmatrix} , C = \\begin{bmatrix} 1 & 8 & -2\\end{bmatrix} , D = \\begin{bmatrix} 6 & -7 & 1\\end{bmatrix} \n",
        "$$"
      ],
      "metadata": {
        "id": "dLUJVMaTI0w0"
      }
    },
    {
      "cell_type": "markdown",
      "source": [
        "### Lab 2 - Plotting Vector using NumPy and MatPlotLib"
      ],
      "metadata": {
        "id": "7W9mr74xYzTS"
      }
    },
    {
      "cell_type": "code",
      "source": [
        "import numpy as np ## 'np' "
      ],
      "metadata": {
        "id": "4JLZLqbKZceE"
      },
      "execution_count": 20,
      "outputs": []
    },
    {
      "cell_type": "code",
      "source": [
        "A = np.array([5,1,5])\n",
        "B = np.array([9,-10,8])\n",
        "C = np.array([\n",
        "              [7,8],\n",
        "              [5,9],\n",
        "              [-1,6]\n",
        "])\n",
        "D = np.array ([[8,6],\n",
        "              [-4,7],\n",
        "              [6,9]])\n",
        "print('Vector A is ', A)\n",
        "print('Vector B is ', B)\n",
        "print('Vector C is ', C)\n",
        "print('Vector D is ', D)"
      ],
      "metadata": {
        "colab": {
          "base_uri": "https://localhost:8080/"
        },
        "id": "G8M3-5ovZ2kC",
        "outputId": "8bec3cd4-922e-44cb-806d-2b9a5bfac49a"
      },
      "execution_count": 21,
      "outputs": [
        {
          "output_type": "stream",
          "name": "stdout",
          "text": [
            "Vector A is  [5 1 5]\n",
            "Vector B is  [  9 -10   8]\n",
            "Vector C is  [[ 7  8]\n",
            " [ 5  9]\n",
            " [-1  6]]\n",
            "Vector D is  [[ 8  6]\n",
            " [-4  7]\n",
            " [ 6  9]]\n"
          ]
        }
      ]
    },
    {
      "cell_type": "markdown",
      "source": [
        "### Describing vectors in NumPy"
      ],
      "metadata": {
        "id": "4TeaXudcaXCx"
      }
    },
    {
      "cell_type": "markdown",
      "source": [
        "#### It is a method to **describe** vectors are knowing their shape, size and dimensions."
      ],
      "metadata": {
        "id": "Dp2jre0QyVzu"
      }
    },
    {
      "cell_type": "code",
      "source": [
        "A.shape\n",
        "H = np.array([5, 7, 10, 4, -5, 0.2])\n",
        "H.shape\n",
        "D.shape"
      ],
      "metadata": {
        "colab": {
          "base_uri": "https://localhost:8080/"
        },
        "id": "gsLAbhsvaXcj",
        "outputId": "dc3322ca-ab9c-4621-adb9-dfc0d9423216"
      },
      "execution_count": 22,
      "outputs": [
        {
          "output_type": "execute_result",
          "data": {
            "text/plain": [
              "(3, 2)"
            ]
          },
          "metadata": {},
          "execution_count": 22
        }
      ]
    },
    {
      "cell_type": "code",
      "source": [
        "A.size"
      ],
      "metadata": {
        "colab": {
          "base_uri": "https://localhost:8080/"
        },
        "id": "4AITavnjatpL",
        "outputId": "edbfc6b9-cf5f-43e9-c19a-651202c431ad"
      },
      "execution_count": 23,
      "outputs": [
        {
          "output_type": "execute_result",
          "data": {
            "text/plain": [
              "3"
            ]
          },
          "metadata": {},
          "execution_count": 23
        }
      ]
    },
    {
      "cell_type": "code",
      "source": [
        "A.ndim"
      ],
      "metadata": {
        "colab": {
          "base_uri": "https://localhost:8080/"
        },
        "id": "dGvk75gTawy_",
        "outputId": "ea27ff69-d465-43e2-baea-de4c7625d80d"
      },
      "execution_count": 24,
      "outputs": [
        {
          "output_type": "execute_result",
          "data": {
            "text/plain": [
              "1"
            ]
          },
          "metadata": {},
          "execution_count": 24
        }
      ]
    },
    {
      "cell_type": "markdown",
      "source": [
        "### Addition"
      ],
      "metadata": {
        "id": "1jPMvpLRa0Vs"
      }
    },
    {
      "cell_type": "markdown",
      "source": [
        "Adding vectors means that the elements of the matrices should be added according to their index."
      ],
      "metadata": {
        "id": "I5lic92yNuEc"
      }
    },
    {
      "cell_type": "markdown",
      "source": [
        "$$R = 5\\hat{x}+2\\hat{y} \\\\ \\\\or \\\\ \\\\ R = \\begin{bmatrix} 5 \\\\ 2\\end{bmatrix} $$"
      ],
      "metadata": {
        "id": "k51iOsKtbA1D"
      }
    },
    {
      "cell_type": "code",
      "source": [
        "V = np.add(A, B) \n",
        "P = np.add(C, D)"
      ],
      "metadata": {
        "id": "gkEummMlbD15"
      },
      "execution_count": 25,
      "outputs": []
    },
    {
      "cell_type": "code",
      "source": [
        "V = A + B   \n",
        "V"
      ],
      "metadata": {
        "colab": {
          "base_uri": "https://localhost:8080/"
        },
        "id": "4_RuEkzpbIBh",
        "outputId": "8f17a7d2-c6d7-4914-87c9-0f3a32f9745c"
      },
      "execution_count": 26,
      "outputs": [
        {
          "output_type": "execute_result",
          "data": {
            "text/plain": [
              "array([14, -9, 13])"
            ]
          },
          "metadata": {},
          "execution_count": 26
        }
      ]
    },
    {
      "cell_type": "code",
      "source": [
        "T = np.array([6,4,1])\n",
        "Y = np.array([1,8,6])\n",
        "U = np.array([3,3,3])\n",
        "I= np.array([6,9,-12])\n",
        "R = T + Y + U+ I\n",
        "R = np.multiply(U, I)\n",
        "R = U / I\n",
        "R"
      ],
      "metadata": {
        "colab": {
          "base_uri": "https://localhost:8080/"
        },
        "id": "Q6iSWJ6AbNy4",
        "outputId": "0885d72f-2628-4e77-9016-75e381f74fcb"
      },
      "execution_count": 27,
      "outputs": [
        {
          "output_type": "execute_result",
          "data": {
            "text/plain": [
              "array([ 0.5       ,  0.33333333, -0.25      ])"
            ]
          },
          "metadata": {},
          "execution_count": 27
        }
      ]
    },
    {
      "cell_type": "code",
      "source": [
        "A = np.array ([7,2,4,5])\n",
        "B = np.array ([2,8,5,6])\n",
        "print('A =', A)\n",
        "print('B =', B)"
      ],
      "metadata": {
        "colab": {
          "base_uri": "https://localhost:8080/"
        },
        "id": "UaZ_NpWN6WSe",
        "outputId": "c1b1e54a-a53c-42f3-e10c-febdd36302f6"
      },
      "execution_count": 28,
      "outputs": [
        {
          "output_type": "stream",
          "name": "stdout",
          "text": [
            "A = [7 2 4 5]\n",
            "B = [2 8 5 6]\n"
          ]
        }
      ]
    },
    {
      "cell_type": "code",
      "source": [
        "F = np.add(A,B)\n",
        "G = np.subtract(A,B)\n",
        "H = np.multiply(A,B)\n",
        "J = np.divide(A,B)\n",
        "print ('Addition = ', F)\n",
        "print ('Multiplication = ', G)\n",
        "print ('Subtraction = ', H)\n",
        "print ('Division = ', J)"
      ],
      "metadata": {
        "colab": {
          "base_uri": "https://localhost:8080/"
        },
        "id": "BKmlo1tr6gW7",
        "outputId": "15c60389-1a09-4f26-83c6-662737b8b608"
      },
      "execution_count": 29,
      "outputs": [
        {
          "output_type": "stream",
          "name": "stdout",
          "text": [
            "Addition =  [ 9 10  9 11]\n",
            "Multiplication =  [ 5 -6 -1 -1]\n",
            "Subtraction =  [14 16 20 30]\n",
            "Division =  [3.5        0.25       0.8        0.83333333]\n"
          ]
        }
      ]
    },
    {
      "cell_type": "markdown",
      "source": [
        "$$S = 8 \\cdot A$$"
      ],
      "metadata": {
        "id": "2vXkP5vmOq8H"
      }
    },
    {
      "cell_type": "code",
      "source": [
        "V = 8 * A\n",
        "V = np.multiply(8,A)\n",
        "V"
      ],
      "metadata": {
        "colab": {
          "base_uri": "https://localhost:8080/"
        },
        "id": "LCDv61ESb0f6",
        "outputId": "11144efe-5622-42cb-b1eb-80d006df7fd6"
      },
      "execution_count": 30,
      "outputs": [
        {
          "output_type": "execute_result",
          "data": {
            "text/plain": [
              "array([56, 16, 32, 40])"
            ]
          },
          "metadata": {},
          "execution_count": 30
        }
      ]
    },
    {
      "cell_type": "markdown",
      "source": [
        "#### SCALING WITH TWO VECTORS"
      ],
      "metadata": {
        "id": "OtlidfVjcMNz"
      }
    },
    {
      "cell_type": "code",
      "source": [
        "N = np.multiply (13,A)\n",
        "M = np.multiply (21,B)\n",
        "\n",
        "print( ' Vector N = ',N)\n",
        "print( ' Vector M = ',M)"
      ],
      "metadata": {
        "id": "BrwNizw2cPob",
        "colab": {
          "base_uri": "https://localhost:8080/"
        },
        "outputId": "c853f105-fc36-4c6e-e1bf-83d06a178a44"
      },
      "execution_count": 31,
      "outputs": [
        {
          "output_type": "stream",
          "name": "stdout",
          "text": [
            " Vector N =  [91 26 52 65]\n",
            " Vector M =  [ 42 168 105 126]\n"
          ]
        }
      ]
    },
    {
      "cell_type": "markdown",
      "source": [
        "### MatPlotLib"
      ],
      "metadata": {
        "id": "scNtjbq5cTpP"
      }
    },
    {
      "cell_type": "markdown",
      "source": [
        "##### a plotting library available for the Python programming language as part of NumPy, a massive data processing resource."
      ],
      "metadata": {
        "id": "F-g1Ks7scXKq"
      }
    },
    {
      "cell_type": "markdown",
      "source": [
        "### VISUALIZING DATA"
      ],
      "metadata": {
        "id": "3tzaOj-ocZth"
      }
    },
    {
      "cell_type": "markdown",
      "source": [
        "####   the representation of data through the use of standard charts, such as charts, graphs, infographics and even animations."
      ],
      "metadata": {
        "id": "5UfTqaR6cc5z"
      }
    },
    {
      "cell_type": "code",
      "source": [
        "import matplotlib.pyplot as plt\n",
        "import matplotlib\n",
        "%matplotlib inline"
      ],
      "metadata": {
        "id": "W70RpsLBcUfQ"
      },
      "execution_count": 32,
      "outputs": []
    },
    {
      "cell_type": "code",
      "source": [
        "A = [9, -1]\n",
        "B = [5, -1]\n",
        "plt.scatter(A[0], A[1], label='A', c='green')\n",
        "plt.scatter(B[0], B[1], label='B', c='magenta')\n",
        "plt.grid()\n",
        "plt.legend()\n",
        "plt.show()"
      ],
      "metadata": {
        "colab": {
          "base_uri": "https://localhost:8080/",
          "height": 265
        },
        "id": "BTaYtvxmciUO",
        "outputId": "29ad417e-1a1a-45bc-d16b-d83d23c2b78f"
      },
      "execution_count": 33,
      "outputs": [
        {
          "output_type": "display_data",
          "data": {
            "text/plain": [
              "<Figure size 432x288 with 1 Axes>"
            ],
            "image/png": "[encoded data removed]"
          },
          "metadata": {
            "needs_background": "light"
          }
        }
      ]
    },
    {
      "cell_type": "code",
      "source": [
        "A = np.array([2, -2])\n",
        "B = np.array([5, 6])\n",
        "R = A + B\n",
        "Magnitude = np.sqrt(np.sum(R**2))\n",
        "plt.title(\"Resultant Vector\\nMagnitude:{}\" .format(Magnitude))\n",
        "plt.xlim(-10, 10)\n",
        "plt.ylim(-10, 10)\n",
        "plt.quiver(0, 0, A[0], A[1], angles='xy', scale_units='xy', scale=1, color='red')\n",
        "plt.quiver(A[0], A[1], B[0], B[1], angles='xy', scale_units='xy', scale=1, color='green')\n",
        "plt.quiver(0, 0, R[0], R[1], angles='xy', scale_units='xy', scale=1, color='black')\n",
        "plt.grid()\n",
        "plt.show()\n",
        "print(R)\n",
        "print(Magnitude)\n",
        "Slope = R[1]/R[0]\n",
        "print(Slope)\n",
        "Angle = (np.arctan(Slope))*(180/np.pi)\n",
        "print(Angle)"
      ],
      "metadata": {
        "colab": {
          "base_uri": "https://localhost:8080/",
          "height": 365
        },
        "id": "rkzG0J_rfIQc",
        "outputId": "06a4fe5b-f2ae-44b0-af40-f896bdc97af1"
      },
      "execution_count": 34,
      "outputs": [
        {
          "output_type": "display_data",
          "data": {
            "text/plain": [
              "<Figure size 432x288 with 1 Axes>"
            ],
            "image/png": "[encoded data removed]"
          },
          "metadata": {
            "needs_background": "light"
          }
        },
        {
          "output_type": "stream",
          "name": "stdout",
          "text": [
            "[7 4]\n",
            "8.06225774829855\n",
            "0.5714285714285714\n",
            "29.74488129694222\n"
          ]
        }
      ]
    },
    {
      "cell_type": "code",
      "source": [
        "A = np.array([2, -1])\n",
        "B = np.array([3, 3])\n",
        "plt.title(\"Resultant Vector\\nMagnitude:{}\" .format(Magnitude))\n",
        "plt.xlim(-10, 10)\n",
        "plt.ylim(-10, 10)\n",
        "plt.quiver(0, 0, A[0], A[1], angles='xy', scale_units='xy', scale=1, color='red')\n",
        "plt.quiver(A[0], A[1], B[0], B[1], angles='xy', scale_units='xy', scale=1, color='green')\n",
        "R = A + B\n",
        "plt.quiver(0, 0, R[0], R[1], angles='xy', scale_units='xy', scale=1, color='black')\n",
        "plt.grid()\n",
        "plt.show()\n",
        "print(R)\n",
        "Magnitude = np.sqrt(np.sum(R**2))\n",
        "print(Magnitude)\n",
        "Slope = R[1]/R[0]\n",
        "print(Slope)\n",
        "Angle = (np.arctan(Slope))*(180/np.pi)\n",
        "print(Angle)"
      ],
      "metadata": {
        "colab": {
          "base_uri": "https://localhost:8080/",
          "height": 365
        },
        "id": "7LSlWGk6fnGp",
        "outputId": "7105bdcc-a737-42fb-dc65-4b2b2146dc51"
      },
      "execution_count": 35,
      "outputs": [
        {
          "output_type": "display_data",
          "data": {
            "text/plain": [
              "<Figure size 432x288 with 1 Axes>"
            ],
            "image/png": "[encoded data removed]"
          },
          "metadata": {
            "needs_background": "light"
          }
        },
        {
          "output_type": "stream",
          "name": "stdout",
          "text": [
            "[5 2]\n",
            "5.385164807134504\n",
            "0.4\n",
            "21.80140948635181\n"
          ]
        }
      ]
    },
    {
      "cell_type": "code",
      "source": [
        "H = np.array([2, 5])\n",
        "I = np.array([1, 2])\n",
        "J = np.array([7, 3])\n",
        "#K = np.array ([2, 5, 7])\n",
        "R = H + I + J \n",
        "Magnitude = np.sqrt(np.sum(R**2))\n",
        "plt.title(\"Resultant Vector\\nMagnitude:{}\" .format(Magnitude))\n",
        "plt.xlim(0, 10)\n",
        "plt.ylim(0, 10)\n",
        "plt.quiver(0,0, H[0], H[1], angles='xy', scale_units='xy',color='red',scale=1)\n",
        "plt.quiver(H[0], H[1], I[0], I[1], angles='xy', scale_units='xy', scale=1, color='green')\n",
        "plt.quiver(3, 7, J[0], J[1],  angles='xy', scale_units='xy', scale=1, color='blue')\n",
        "plt.quiver(0, 0, R[0], R[1], angles='xy', scale_units='xy', scale=1, color='black')\n",
        "plt.grid()\n",
        "plt.show()\n",
        "print(R)\n",
        "print(Magnitude)\n",
        "Slope = R[1]/R[0]\n",
        "print(Slope)\n",
        "Angle = (np.arctan(Slope))*(180/np.pi)\n",
        "print(Angle)"
      ],
      "metadata": {
        "colab": {
          "base_uri": "https://localhost:8080/",
          "height": 365
        },
        "id": "91xmBYkKyPyy",
        "outputId": "66c7de40-bd63-400e-cbe9-6a5aea356840"
      },
      "execution_count": 44,
      "outputs": [
        {
          "output_type": "display_data",
          "data": {
            "text/plain": [
              "<Figure size 432x288 with 1 Axes>"
            ],
            "image/png": "[encoded data removed]"
          },
          "metadata": {
            "needs_background": "light"
          }
        },
        {
          "output_type": "stream",
          "name": "stdout",
          "text": [
            "[10 10]\n",
            "14.142135623730951\n",
            "1.0\n",
            "45.0\n"
          ]
        }
      ]
    }
  ]
}