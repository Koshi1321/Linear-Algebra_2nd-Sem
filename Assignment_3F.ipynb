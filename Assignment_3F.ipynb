{
  "nbformat": 4,
  "nbformat_minor": 0,
  "metadata": {
    "colab": {
      "name": "Assignment 3.ipynb",
      "provenance": [],
      "authorship_tag": "ABX9TyMgO5aBzJKjmbmEa5L5TnxC",
      "include_colab_link": true
    },
    "kernelspec": {
      "name": "python3",
      "display_name": "Python 3"
    },
    "language_info": {
      "name": "python"
    }
  },
  "cells": [
    {
      "cell_type": "markdown",
      "metadata": {
        "id": "view-in-github",
        "colab_type": "text"
      },
      "source": [
        "<a href=\"https://colab.research.google.com/github/Koshi1321/Linear-Algebra_2nd-Sem/blob/main/Assignment_3F.ipynb\" target=\"_parent\"><img src=\"https://colab.research.google.com/assets/colab-badge.svg\" alt=\"Open In Colab\"/></a>"
      ]
    },
    {
      "cell_type": "markdown",
      "source": [
        "# Linear Algebra for ChE\n",
        "## Laboratory 2: Matrices"
      ],
      "metadata": {
        "id": "LtSleYPSxsfS"
      }
    },
    {
      "cell_type": "markdown",
      "source": [
        "# Objectives\n",
        "At the end of this activity you will be able to:\n",
        "\n",
        "Be familiar with matrices and their relation to linear equations.\n",
        "Perform basic matrix operations.\n",
        "Program and translate matrix equations and operations using Python."
      ],
      "metadata": {
        "id": "uNxzUwFBx-r9"
      }
    },
    {
      "cell_type": "markdown",
      "source": [
        "# Discussion"
      ],
      "metadata": {
        "id": "NdUxDCBKyE-_"
      }
    },
    {
      "cell_type": "code",
      "source": [
        "import numpy as np\n",
        "import matplotlib.pyplot as plt\n",
        "import scipy.linalg as la\n",
        "%matplotlib inline"
      ],
      "metadata": {
        "id": "TI9B65xmyLoU"
      },
      "execution_count": null,
      "outputs": []
    },
    {
      "cell_type": "markdown",
      "source": [
        "## Matrices \n",
        "#### The notation and use of matrices is probably one of the fundanmentals of modern computing. Matrices are also handy representation of complex equations or multiple complex equations or multiple inter-related equations from 2- dimensional equations to even hundreds and thousans of them. It is a rectangular arrays of numbers, symbols, or expressions, arranged in rows and columns.\n",
        "\n",
        "### Let's say for example you have A and B as system of equation.\n",
        "\n",
        "$$\n",
        "A = \\left\\{\n",
        "    \\begin{array}\\\n",
        "        x + y \\\\ \n",
        "        4x - 10y\n",
        "    \\end{array}\n",
        "\\right. \\\\\n",
        "B = \\left\\{\n",
        "    \\begin{array}\\\n",
        "        x+y+z \\\\ \n",
        "        4x -3y -z \\\\\n",
        "        -3x + 5y +5z\n",
        "    \\end{array}\n",
        "\\right. \\\\\n",
        "C= \\left\\{\n",
        "    \\begin{array}\\\n",
        "        w-x+y+z \\\\ \n",
        "        3w-6x -2y -6z \\\\\n",
        "        6w-5x + 7y +5z\n",
        "    \\end{array}\n",
        "\\right. $$\n"
      ],
      "metadata": {
        "id": "QaSlqRlRzbeS"
      }
    },
    {
      "cell_type": "markdown",
      "source": [
        "### We could see that A is a system of 2 equations with 2 parameters. While B is a system of 3 equations with 3 parameters. We can represent them as matrices as:\n",
        "\n",
        ":$$\n",
        "A=\\begin{bmatrix} 1 & 1 \\\\ 4 & {-10}\\end{bmatrix} \\\\\n",
        "B=\\begin{bmatrix} 1 & 1 & 1 \\\\ 4 & -3 & -1 \\\\ -1 & 4 & 2\\end{bmatrix} \\\\\n",
        "C=\\begin{bmatrix} 1 & 1 & 1 & 1 \\\\ 3 & -6 & -2 & -6 \\\\ 6 & -5 & 7 & 5\\end{bmatrix}\n",
        "$$\n"
      ],
      "metadata": {
        "id": "xwXgX1vB1L51"
      }
    },
    {
      "cell_type": "markdown",
      "source": [
        "# Declaring Matrices\n",
        "#### The set of numbers arranged in rows and columnsare called the elements, or entries, of the matrix. Denoted by i is the number of rows in the matrix while j stands  for the number of columns.\n",
        "#### This can be represented just like the equation below.\n",
        "\n",
        "$$A=\\begin{bmatrix}\n",
        "a_{(0,0)}&a_{(0,1)}&\\dots&a_{(0,j-1)}\\\\\n",
        "a_{(1,0)}&a_{(1,1)}&\\dots&a_{(1,j-1)}\\\\\n",
        "\\vdots&\\vdots&\\ddots&\\vdots&\\\\\n",
        "a_{(i-1,0)}&a_{(i-1,1)}&\\dots&a_{(i-1,j-1)}\n",
        "\\end{bmatrix}\n",
        "$$\n"
      ],
      "metadata": {
        "id": "87Y5x6TJ3a8H"
      }
    },
    {
      "cell_type": "code",
      "source": [
        "def describe_mat(matrix):\n",
        "  print(f'Matrix:\\n{matrix}\\n\\nShape:\\t{matrix.shape}\\nRank:\\t{matrix.ndim}\\n')"
      ],
      "metadata": {
        "id": "Fu-536mo31GF"
      },
      "execution_count": null,
      "outputs": []
    },
    {
      "cell_type": "code",
      "source": [
        "## Declaring a 2 x 2 matirx\n",
        "A = np.array([\n",
        "  [1, 3],\n",
        "  [4, 5]\n",
        "])\n",
        "describe_mat(A)"
      ],
      "metadata": {
        "colab": {
          "base_uri": "https://localhost:8080/"
        },
        "id": "PQ1mBGnI4Se2",
        "outputId": "9ff71086-8760-465e-a2ec-657aaa03c465"
      },
      "execution_count": null,
      "outputs": [
        {
          "output_type": "stream",
          "name": "stdout",
          "text": [
            "Matrix:\n",
            "[[1 3]\n",
            " [4 5]]\n",
            "\n",
            "Shape:\t(2, 2)\n",
            "Rank:\t2\n",
            "\n"
          ]
        }
      ]
    },
    {
      "cell_type": "code",
      "source": [
        "G = np.array([\n",
        " [1,1,1],\n",
        " [2,3,4]\n",
        "])\n",
        "describe_mat(G)"
      ],
      "metadata": {
        "colab": {
          "base_uri": "https://localhost:8080/"
        },
        "id": "wgmsujjq6JWY",
        "outputId": "033e074c-e39d-4649-ccd4-4a8c7dbaad3f"
      },
      "execution_count": null,
      "outputs": [
        {
          "output_type": "stream",
          "name": "stdout",
          "text": [
            "Matrix:\n",
            "[[1 1 1]\n",
            " [2 3 4]]\n",
            "\n",
            "Shape:\t(2, 3)\n",
            "Rank:\t2\n",
            "\n"
          ]
        }
      ]
    },
    {
      "cell_type": "code",
      "source": [
        "H = np.array([1,2,3,4,5])\n",
        "describe_mat(H)"
      ],
      "metadata": {
        "colab": {
          "base_uri": "https://localhost:8080/"
        },
        "id": "TU3UANCj6h2D",
        "outputId": "82180d3c-b2d6-46f5-e10f-4ae61a9be52b"
      },
      "execution_count": null,
      "outputs": [
        {
          "output_type": "stream",
          "name": "stdout",
          "text": [
            "Matrix:\n",
            "[1 2 3 4 5]\n",
            "\n",
            "Shape:\t(5,)\n",
            "Rank:\t1\n",
            "\n"
          ]
        }
      ]
    },
    {
      "cell_type": "markdown",
      "source": [
        "## According to shape"
      ],
      "metadata": {
        "id": "N9cIci3Z7RCm"
      }
    },
    {
      "cell_type": "markdown",
      "source": [
        "### Row and Column Matrices\n",
        "\n",
        "#### Row and column matrices are common in vector and matrix computations. The horizontal entries are called rows while the vertical lines of entries are called columns."
      ],
      "metadata": {
        "id": "xMvJ7jEY7VQP"
      }
    },
    {
      "cell_type": "code",
      "source": [
        "## Declaring a Row Matrix\n",
        "\n",
        "row_mat_1D = np.array([\n",
        "    1,5,2,-8                \n",
        "])\n",
        "row_mat_2D = np.array([\n",
        "  [1,3,5,10]\n",
        "])\n",
        "describe_mat(row_mat_1D)\n",
        "describe_mat(row_mat_2D)"
      ],
      "metadata": {
        "colab": {
          "base_uri": "https://localhost:8080/"
        },
        "id": "VrYdaWeF7hT6",
        "outputId": "97a3d983-ab89-48ee-f4af-0190bdecbece"
      },
      "execution_count": null,
      "outputs": [
        {
          "output_type": "stream",
          "name": "stdout",
          "text": [
            "Matrix:\n",
            "[ 1  5  2 -8]\n",
            "\n",
            "Shape:\t(4,)\n",
            "Rank:\t1\n",
            "\n",
            "Matrix:\n",
            "[[ 1  3  5 10]]\n",
            "\n",
            "Shape:\t(1, 4)\n",
            "Rank:\t2\n",
            "\n"
          ]
        }
      ]
    },
    {
      "cell_type": "code",
      "source": [
        "## Declaring a Column Matrix\n",
        "\n",
        "col_mat = np.array([\n",
        "    [200000],\n",
        "    [355],\n",
        "    [55],\n",
        "])\n",
        "describe_mat(col_mat)"
      ],
      "metadata": {
        "colab": {
          "base_uri": "https://localhost:8080/"
        },
        "id": "r8gy9Dym9Vcx",
        "outputId": "c8211223-e261-41bf-ccef-b4e7d078805c"
      },
      "execution_count": null,
      "outputs": [
        {
          "output_type": "stream",
          "name": "stdout",
          "text": [
            "Matrix:\n",
            "[[200000]\n",
            " [   355]\n",
            " [    55]]\n",
            "\n",
            "Shape:\t(3, 1)\n",
            "Rank:\t2\n",
            "\n"
          ]
        }
      ]
    },
    {
      "cell_type": "markdown",
      "source": [
        "### Square Matrices\n",
        "#### It is a matrix with the same sizes of rows and columns."
      ],
      "metadata": {
        "id": "g6DFGJ2L-B8D"
      }
    },
    {
      "cell_type": "code",
      "source": [
        "def describe_mat(matrix):\n",
        "    is_square = True  if matrix.shape[0] == matrix.shape[1] else False\n",
        "    print(f'Matrix:\\n[matrix]\\n\\nShape:\\t{matrix.shape}\\nRank:\\t{matrix.ndim}\\nis Square: {is_square}\\n')"
      ],
      "metadata": {
        "id": "inanN89m-F1s"
      },
      "execution_count": null,
      "outputs": []
    },
    {
      "cell_type": "code",
      "source": [
        "square_mat = np.array([\n",
        "  [1,4,7],\n",
        "  [5,3,7],\n",
        "  [1,7,5]\n",
        "])\n",
        "\n",
        "non_square_mat =  np.array([\n",
        "  [8,9,10],\n",
        "  [5,6,5]   \n",
        "])\n",
        "describe_mat(square_mat)\n",
        "describe_mat(non_square_mat)"
      ],
      "metadata": {
        "colab": {
          "base_uri": "https://localhost:8080/"
        },
        "id": "-Ir9cU2y-tVd",
        "outputId": "f59b9e28-292c-4d55-ce34-aad64e33bf4c"
      },
      "execution_count": null,
      "outputs": [
        {
          "output_type": "stream",
          "name": "stdout",
          "text": [
            "Matrix:\n",
            "[matrix]\n",
            "\n",
            "Shape:\t(3, 3)\n",
            "Rank:\t2\n",
            "is Square: True\n",
            "\n",
            "Matrix:\n",
            "[matrix]\n",
            "\n",
            "Shape:\t(2, 3)\n",
            "Rank:\t2\n",
            "is Square: False\n",
            "\n"
          ]
        }
      ]
    },
    {
      "cell_type": "markdown",
      "source": [
        "# According to element values\n",
        "\n",
        "\n"
      ],
      "metadata": {
        "id": "Rk-jt_QSBDXh"
      }
    },
    {
      "cell_type": "markdown",
      "source": [
        "## Null Matrix\n",
        "### Null Matrix is a matrix having zero as each of its elements. "
      ],
      "metadata": {
        "id": "JQ_XuXQ9cgrS"
      }
    },
    {
      "cell_type": "code",
      "source": [
        "def describe_mat(matrix):\n",
        "  if matrix.size > 0:\n",
        "    is_square = True if matrix.shape[0] == matrix.shape[1] else False\n",
        "    print(f'Matrix:\\n{matrix}\\n\\nShape:\\t{matrix.shape}\\nRank:\\t{matrix.ndim}\\nis Square: {is_square}\\n')\n",
        "  else:\n",
        "    print('Matrix is Null')"
      ],
      "metadata": {
        "id": "S3HlHZZWBGGI"
      },
      "execution_count": null,
      "outputs": []
    },
    {
      "cell_type": "code",
      "source": [
        "null_mat = np.array([])\n",
        "describe_mat(null_mat)"
      ],
      "metadata": {
        "colab": {
          "base_uri": "https://localhost:8080/"
        },
        "id": "LOPGc4-FBiSg",
        "outputId": "9f775553-f6b8-4263-e7da-b469f9c39e8c"
      },
      "execution_count": null,
      "outputs": [
        {
          "output_type": "stream",
          "name": "stdout",
          "text": [
            "Matrix is Null\n"
          ]
        }
      ]
    },
    {
      "cell_type": "markdown",
      "source": [
        "## Zero Matrix\n",
        "### Matrix in which all elements are zero."
      ],
      "metadata": {
        "id": "VLSRGpjeCSME"
      }
    },
    {
      "cell_type": "code",
      "source": [
        "zero_mat_row = np.zeros((1,2))\n",
        "zero_mat_sqr = np.zeros((2,2))\n",
        "zero_mat_rct = np.zeros((3,2))\n",
        "\n",
        "print(f'Zero Row Matrix: \\n{zero_mat_row}')\n",
        "print(f'Zero Square Matrix: \\n{zero_mat_sqr}')\n",
        "print(f'Zero Rectangular Matrix: \\n{zero_mat_rct}')"
      ],
      "metadata": {
        "colab": {
          "base_uri": "https://localhost:8080/"
        },
        "id": "cbqeY112CVWY",
        "outputId": "43ddecd3-9cb0-41e6-9bc5-9374fca6a54d"
      },
      "execution_count": null,
      "outputs": [
        {
          "output_type": "stream",
          "name": "stdout",
          "text": [
            "Zero Row Matrix: \n",
            "[[0. 0.]]\n",
            "Zero Square Matrix: \n",
            "[[0. 0.]\n",
            " [0. 0.]]\n",
            "Zero Rectangular Matrix: \n",
            "[[0. 0.]\n",
            " [0. 0.]\n",
            " [0. 0.]]\n"
          ]
        }
      ]
    },
    {
      "cell_type": "markdown",
      "source": [
        "##Ones Matrix\n",
        "### Matrix in which all elements are 1s instead of 0s"
      ],
      "metadata": {
        "id": "HM490e1JDsxU"
      }
    },
    {
      "cell_type": "code",
      "source": [
        "ones_mat_row = np.ones((1,2))\n",
        "ones_mat_sqr = np.ones((2,2))\n",
        "ones_mat_rct = np.ones((3,2))\n",
        "\n",
        "print(f'Ones Row Matrix: \\n{ones_mat_row}')\n",
        "print(f'Ones Square Matrix: \\n{ones_mat_sqr}')\n",
        "print(f'Ones Rectangular Matrix: \\n{ones_mat_rct}')"
      ],
      "metadata": {
        "colab": {
          "base_uri": "https://localhost:8080/"
        },
        "id": "n0yXdl1XDvO4",
        "outputId": "63e7b385-dab8-422e-ebe9-70c346a55c93"
      },
      "execution_count": null,
      "outputs": [
        {
          "output_type": "stream",
          "name": "stdout",
          "text": [
            "Ones Row Matrix: \n",
            "[[1. 1.]]\n",
            "Ones Square Matrix: \n",
            "[[1. 1.]\n",
            " [1. 1.]]\n",
            "Ones Rectangular Matrix: \n",
            "[[1. 1.]\n",
            " [1. 1.]\n",
            " [1. 1.]]\n"
          ]
        }
      ]
    },
    {
      "cell_type": "markdown",
      "source": [
        "##Diagonal Matrix\n",
        "### Square matrix in which all off-diagonal entries are zero"
      ],
      "metadata": {
        "id": "CRToQ8EeEna0"
      }
    },
    {
      "cell_type": "code",
      "source": [
        "np.array([\n",
        "   [7,0,0],\n",
        "   [0,4,0],\n",
        "   [0,0,6]      \n",
        "])"
      ],
      "metadata": {
        "colab": {
          "base_uri": "https://localhost:8080/"
        },
        "id": "iFtbci9mEqcn",
        "outputId": "29cedebd-7fc4-4cf4-abdf-401eeba28839"
      },
      "execution_count": null,
      "outputs": [
        {
          "output_type": "execute_result",
          "data": {
            "text/plain": [
              "array([[7, 0, 0],\n",
              "       [0, 4, 0],\n",
              "       [0, 0, 6]])"
            ]
          },
          "metadata": {},
          "execution_count": 55
        }
      ]
    },
    {
      "cell_type": "code",
      "source": [
        "d = np.diag([9,4,6,5])\n",
        "d.shape[0] == d.shape[1]\n",
        "d"
      ],
      "metadata": {
        "colab": {
          "base_uri": "https://localhost:8080/"
        },
        "id": "ObTZKRXZE9U0",
        "outputId": "86acf735-f6d0-4a5e-ba6d-4cf48b615d5d"
      },
      "execution_count": null,
      "outputs": [
        {
          "output_type": "execute_result",
          "data": {
            "text/plain": [
              "array([[9, 0, 0, 0],\n",
              "       [0, 4, 0, 0],\n",
              "       [0, 0, 6, 0],\n",
              "       [0, 0, 0, 5]])"
            ]
          },
          "metadata": {},
          "execution_count": 54
        }
      ]
    },
    {
      "cell_type": "markdown",
      "source": [
        "##Identity Matrix\n",
        "### Square matrix having 1s diagonally and 0s everywhere else"
      ],
      "metadata": {
        "id": "GPZK8gh9F2sX"
      }
    },
    {
      "cell_type": "code",
      "source": [
        "np.eye(4)"
      ],
      "metadata": {
        "colab": {
          "base_uri": "https://localhost:8080/"
        },
        "id": "mOOOGOkGF4iG",
        "outputId": "03c87061-4775-4b6d-f6ad-cc5c6d9fb10b"
      },
      "execution_count": null,
      "outputs": [
        {
          "output_type": "execute_result",
          "data": {
            "text/plain": [
              "array([[1., 0., 0., 0.],\n",
              "       [0., 1., 0., 0.],\n",
              "       [0., 0., 1., 0.],\n",
              "       [0., 0., 0., 1.]])"
            ]
          },
          "metadata": {},
          "execution_count": 56
        }
      ]
    },
    {
      "cell_type": "code",
      "source": [
        "np.identity(6)"
      ],
      "metadata": {
        "colab": {
          "base_uri": "https://localhost:8080/"
        },
        "id": "77rtrmDTF_fs",
        "outputId": "fc9abc2d-49ea-4989-ad71-d50c4a908dbb"
      },
      "execution_count": null,
      "outputs": [
        {
          "output_type": "execute_result",
          "data": {
            "text/plain": [
              "array([[1., 0., 0., 0., 0., 0.],\n",
              "       [0., 1., 0., 0., 0., 0.],\n",
              "       [0., 0., 1., 0., 0., 0.],\n",
              "       [0., 0., 0., 1., 0., 0.],\n",
              "       [0., 0., 0., 0., 1., 0.],\n",
              "       [0., 0., 0., 0., 0., 1.]])"
            ]
          },
          "metadata": {},
          "execution_count": 57
        }
      ]
    },
    {
      "cell_type": "markdown",
      "source": [
        "##Upper Triangular Matrix\n",
        "### matrix having zero in all elements below the main diagonal"
      ],
      "metadata": {
        "id": "ktApmtRhGcEn"
      }
    },
    {
      "cell_type": "code",
      "source": [
        "np.array([\n",
        "   [7,0,0,5],\n",
        "   [0,4,0,-1],\n",
        "   [0,0,6,2], \n",
        "   [0,9,5,2]     \n",
        "])"
      ],
      "metadata": {
        "colab": {
          "base_uri": "https://localhost:8080/"
        },
        "id": "2PxLJ0ejGfRw",
        "outputId": "b8bac590-72ac-4f82-fb4b-4cc4479cf89f"
      },
      "execution_count": null,
      "outputs": [
        {
          "output_type": "execute_result",
          "data": {
            "text/plain": [
              "array([[ 7,  0,  0,  5],\n",
              "       [ 0,  4,  0, -1],\n",
              "       [ 0,  0,  6,  2],\n",
              "       [ 0,  9,  5,  2]])"
            ]
          },
          "metadata": {},
          "execution_count": 63
        }
      ]
    },
    {
      "cell_type": "markdown",
      "source": [
        "## Lower Triangular Matrix\n",
        "#### A lower triangular matrix is a matrix that has no values above the diagonal"
      ],
      "metadata": {
        "id": "D8lQWFz7Gs_K"
      }
    },
    {
      "cell_type": "code",
      "source": [
        "np.array([\n",
        "   [6,3,0,4],\n",
        "   [0,4,5,-1],\n",
        "   [1,0,6,2]     \n",
        "])"
      ],
      "metadata": {
        "colab": {
          "base_uri": "https://localhost:8080/"
        },
        "id": "E6SA6bFAGwcU",
        "outputId": "abf84be3-0ea4-4a42-90e0-c625801c60e5"
      },
      "execution_count": null,
      "outputs": [
        {
          "output_type": "execute_result",
          "data": {
            "text/plain": [
              "array([[ 6,  3,  0,  4],\n",
              "       [ 0,  4,  5, -1],\n",
              "       [ 1,  0,  6,  2]])"
            ]
          },
          "metadata": {},
          "execution_count": 59
        }
      ]
    },
    {
      "cell_type": "markdown",
      "source": [
        "## Practice\n",
        "\n",
        "#### 1. Given the linear combination below, try to create a corresponding matrix representing it.\n",
        "\n",
        ":$$\\theta = 5x + 3y - z$$\n"
      ],
      "metadata": {
        "id": "D2PhQfyEHZZr"
      }
    },
    {
      "cell_type": "code",
      "source": [
        ""
      ],
      "metadata": {
        "id": "jkwHosPVH9Lw"
      },
      "execution_count": null,
      "outputs": []
    },
    {
      "cell_type": "markdown",
      "source": [
        "### 2.Given the system of linear combinations below, try to encode it as a matrix. Also describe the matrix.\n",
        "\n",
        "$$\n",
        "A = \\left\\{\\begin{array}\n",
        "5x_1 + 2x_2 +x_3\\\\\n",
        "4x_2 - x_3\\\\\n",
        "10x_3\n",
        "\\end{array}\\right.\n",
        "$$\n"
      ],
      "metadata": {
        "id": "CXBMVUniHsBp"
      }
    },
    {
      "cell_type": "code",
      "source": [
        ""
      ],
      "metadata": {
        "id": "bh_hqISdIltU"
      },
      "execution_count": null,
      "outputs": []
    },
    {
      "cell_type": "markdown",
      "source": [
        "### 3. Given the matrix below, express it as a linear combination in a markdown and a LaTeX markdown\n",
        "\n",
        "\n"
      ],
      "metadata": {
        "id": "QMEZdfHrIOSX"
      }
    },
    {
      "cell_type": "code",
      "source": [
        "G = np.array([\n",
        "    [1,7,8],\n",
        "    [2,2,2],\n",
        "    [4,6,7]\n",
        "])\n"
      ],
      "metadata": {
        "id": "JcDGQ38oI7Qj"
      },
      "execution_count": null,
      "outputs": []
    },
    {
      "cell_type": "markdown",
      "source": [
        "## 4. Given the matrix below, display the output as a LaTeX markdown also express it as a system of linear combinations\n"
      ],
      "metadata": {
        "id": "VfuMVFAaI9c3"
      }
    },
    {
      "cell_type": "code",
      "source": [
        "H = np.tril(G)\n",
        "H\n"
      ],
      "metadata": {
        "colab": {
          "base_uri": "https://localhost:8080/"
        },
        "id": "w1c4EiVpJG6A",
        "outputId": "f57da198-9a8d-4e2b-9ed3-357eb1503097"
      },
      "execution_count": null,
      "outputs": [
        {
          "output_type": "execute_result",
          "data": {
            "text/plain": [
              "array([[1, 0, 0],\n",
              "       [2, 2, 0],\n",
              "       [4, 6, 7]])"
            ]
          },
          "metadata": {},
          "execution_count": 65
        }
      ]
    },
    {
      "cell_type": "markdown",
      "source": [
        "# Matrix Algebra"
      ],
      "metadata": {
        "id": "zwOQM6ePJLf1"
      }
    },
    {
      "cell_type": "markdown",
      "source": [
        "####Addition"
      ],
      "metadata": {
        "id": "OwK1J0Y8JpAB"
      }
    },
    {
      "cell_type": "code",
      "source": [
        "A = np.array([\n",
        "     [9,3], \n",
        "     [5,4],\n",
        "     [6,9]       \n",
        "])\n",
        "B = np.array([\n",
        "     [1,2], \n",
        "     [1,2],\n",
        "     [1,2]\n",
        "])\n",
        "A+B "
      ],
      "metadata": {
        "colab": {
          "base_uri": "https://localhost:8080/"
        },
        "id": "kdynBS0nJNYk",
        "outputId": "a74f5d93-2553-494b-c9eb-b88f14259e1c"
      },
      "execution_count": null,
      "outputs": [
        {
          "output_type": "execute_result",
          "data": {
            "text/plain": [
              "array([[10,  5],\n",
              "       [ 6,  6],\n",
              "       [ 7, 11]])"
            ]
          },
          "metadata": {},
          "execution_count": 66
        }
      ]
    },
    {
      "cell_type": "code",
      "source": [
        "2+A "
      ],
      "metadata": {
        "colab": {
          "base_uri": "https://localhost:8080/"
        },
        "id": "hMsWhyJdJsho",
        "outputId": "d500f327-a1e8-467e-d704-e08211238b81"
      },
      "execution_count": null,
      "outputs": [
        {
          "output_type": "execute_result",
          "data": {
            "text/plain": [
              "array([[11,  5],\n",
              "       [ 7,  6],\n",
              "       [ 8, 11]])"
            ]
          },
          "metadata": {},
          "execution_count": 67
        }
      ]
    },
    {
      "cell_type": "markdown",
      "source": [
        "### Subtraction"
      ],
      "metadata": {
        "id": "Vi0iOSURJ6Eb"
      }
    },
    {
      "cell_type": "code",
      "source": [
        "A = np.array([\n",
        "     [9,3], \n",
        "     [5,4],\n",
        "     [6,9]       \n",
        "])\n",
        "B = np.array([\n",
        "     [1,2], \n",
        "     [1,2],\n",
        "     [1,2]\n",
        "])\n",
        "A-B "
      ],
      "metadata": {
        "colab": {
          "base_uri": "https://localhost:8080/"
        },
        "id": "LxRuFxd6J8IJ",
        "outputId": "48293733-3f25-49b4-9e76-301ffd7688d1"
      },
      "execution_count": null,
      "outputs": [
        {
          "output_type": "execute_result",
          "data": {
            "text/plain": [
              "array([[8, 1],\n",
              "       [4, 2],\n",
              "       [5, 7]])"
            ]
          },
          "metadata": {},
          "execution_count": 68
        }
      ]
    },
    {
      "cell_type": "code",
      "source": [
        "3-B"
      ],
      "metadata": {
        "colab": {
          "base_uri": "https://localhost:8080/"
        },
        "id": "2dDD8uDYJ_Yt",
        "outputId": "37a94e87-c2e3-493b-bee9-fa8b38463143"
      },
      "execution_count": null,
      "outputs": [
        {
          "output_type": "execute_result",
          "data": {
            "text/plain": [
              "array([[2, 1],\n",
              "       [2, 1],\n",
              "       [2, 1]])"
            ]
          },
          "metadata": {},
          "execution_count": 69
        }
      ]
    },
    {
      "cell_type": "markdown",
      "source": [
        "# Element-wise Multiplication"
      ],
      "metadata": {
        "id": "QXDSF4zyKHH2"
      }
    },
    {
      "cell_type": "code",
      "source": [
        "A*B\n",
        "np.multiply(A,B)"
      ],
      "metadata": {
        "colab": {
          "base_uri": "https://localhost:8080/"
        },
        "id": "mEv447vqKKWt",
        "outputId": "3b3e7686-002d-4cb0-ef12-9ea7ee367d3b"
      },
      "execution_count": null,
      "outputs": [
        {
          "output_type": "execute_result",
          "data": {
            "text/plain": [
              "array([[ 9,  6],\n",
              "       [ 5,  8],\n",
              "       [ 6, 18]])"
            ]
          },
          "metadata": {},
          "execution_count": 70
        }
      ]
    },
    {
      "cell_type": "code",
      "source": [
        "2*A"
      ],
      "metadata": {
        "colab": {
          "base_uri": "https://localhost:8080/"
        },
        "id": "ZSe1uvw7KR4_",
        "outputId": "d3986a41-107d-4a95-bef5-1776385013f3"
      },
      "execution_count": null,
      "outputs": [
        {
          "output_type": "execute_result",
          "data": {
            "text/plain": [
              "array([[18,  6],\n",
              "       [10,  8],\n",
              "       [12, 18]])"
            ]
          },
          "metadata": {},
          "execution_count": 71
        }
      ]
    },
    {
      "cell_type": "markdown",
      "source": [
        "#ACTIVITY 1"
      ],
      "metadata": {
        "id": "ho6nBwibeFci"
      }
    },
    {
      "cell_type": "code",
      "source": [
        "import numpy as np\n",
        "import matplotlib.pyplot as plt\n",
        "import scipy.linalg as la\n",
        "%matplotlib inline"
      ],
      "metadata": {
        "id": "g2DqPV9fhArb"
      },
      "execution_count": 3,
      "outputs": []
    },
    {
      "cell_type": "code",
      "source": [
        "def describe_mat(matrix):\n",
        "    print(f'Matrix:\\n{matrix}\\n\\nShape:\\t{matrix.shape}\\nRank:\\t{matrix.ndim}\\n\\nSize:\\t{matrix.size}\\n')"
      ],
      "metadata": {
        "id": "m9Pt3yLCfkHp"
      },
      "execution_count": 1,
      "outputs": []
    },
    {
      "cell_type": "code",
      "source": [
        "A = np.array ([\n",
        "    [1, 2,5,7],\n",
        "    [3, 1,6,2],\n",
        "    [5, 8,3,1] \n",
        "])\n",
        "describe_mat(A)"
      ],
      "metadata": {
        "colab": {
          "base_uri": "https://localhost:8080/"
        },
        "id": "vIBzZ6pFhE87",
        "outputId": "e178ab18-dc9d-4337-e9c1-98d0ac2e357c"
      },
      "execution_count": 4,
      "outputs": [
        {
          "output_type": "stream",
          "name": "stdout",
          "text": [
            "Matrix:\n",
            "[[1 2 5 7]\n",
            " [3 1 6 2]\n",
            " [5 8 3 1]]\n",
            "\n",
            "Shape:\t(3, 4)\n",
            "Rank:\t2\n",
            "\n",
            "Size:\t12\n",
            "\n"
          ]
        }
      ]
    },
    {
      "cell_type": "code",
      "source": [
        "B = np.array ([\n",
        "    [9, 5,6,10],\n",
        "    [2, 9,4,6],\n",
        "    [6, 7,5,4],\n",
        "    [5, 8, 3, 1]\n",
        "])\n",
        "describe_mat(B)"
      ],
      "metadata": {
        "colab": {
          "base_uri": "https://localhost:8080/"
        },
        "id": "2srjxTxNhJr5",
        "outputId": "3367f47a-0482-4e15-df9a-1bc6693d7417"
      },
      "execution_count": 5,
      "outputs": [
        {
          "output_type": "stream",
          "name": "stdout",
          "text": [
            "Matrix:\n",
            "[[ 9  5  6 10]\n",
            " [ 2  9  4  6]\n",
            " [ 6  7  5  4]\n",
            " [ 5  8  3  1]]\n",
            "\n",
            "Shape:\t(4, 4)\n",
            "Rank:\t2\n",
            "\n",
            "Size:\t16\n",
            "\n"
          ]
        }
      ]
    },
    {
      "cell_type": "code",
      "source": [
        "C = np.array([\n",
        "    [8, 2,4,6,3],\n",
        "    [9, 4,3,5,6],\n",
        "    [1, 5,3,9,7],\n",
        "    [1, 9,8,1,5],\n",
        "    [9, 4,3,5,6]\n",
        "])\n",
        "describe_mat(C)"
      ],
      "metadata": {
        "colab": {
          "base_uri": "https://localhost:8080/"
        },
        "id": "-tPD1JXAhlps",
        "outputId": "6a8ef242-e0dc-489c-c6b7-8ca6adf16290"
      },
      "execution_count": 6,
      "outputs": [
        {
          "output_type": "stream",
          "name": "stdout",
          "text": [
            "Matrix:\n",
            "[[8 2 4 6 3]\n",
            " [9 4 3 5 6]\n",
            " [1 5 3 9 7]\n",
            " [1 9 8 1 5]\n",
            " [9 4 3 5 6]]\n",
            "\n",
            "Shape:\t(5, 5)\n",
            "Rank:\t2\n",
            "\n",
            "Size:\t25\n",
            "\n"
          ]
        }
      ]
    },
    {
      "cell_type": "code",
      "source": [
        "def describe_mat(matrix):\n",
        "   if(matrix.shape[0] == matrix.shape[1]):\n",
        "     square =True\n",
        "     print('Matrix is square')\n",
        "   else:\n",
        "     print('Matrix is non square')"
      ],
      "metadata": {
        "id": "r4_mRMSym8H9"
      },
      "execution_count": 33,
      "outputs": []
    },
    {
      "cell_type": "code",
      "source": [
        "sqr = np.array([\n",
        "    [6,5,7],\n",
        "    [2,5,9],\n",
        "    [2,4,8]\n",
        "])\n",
        "\n",
        "describe_mat(sqr)\n"
      ],
      "metadata": {
        "colab": {
          "base_uri": "https://localhost:8080/"
        },
        "id": "XyU9e8pinFce",
        "outputId": "0d28d86f-77fa-4a57-b6e1-dbb0f2c1ece9"
      },
      "execution_count": 34,
      "outputs": [
        {
          "output_type": "stream",
          "name": "stdout",
          "text": [
            "Matrix is square\n"
          ]
        }
      ]
    },
    {
      "cell_type": "code",
      "source": [
        "sqr = np.array([\n",
        "    [1,2,5,1,5],\n",
        "    [3,3,8,2,6],\n",
        "    [2,4,8,6,8],\n",
        "    [5,5,6,6,9],\n",
        "    [9,7,4,6,2]\n",
        "\n",
        "])\n",
        "describe_mat(sqr)"
      ],
      "metadata": {
        "colab": {
          "base_uri": "https://localhost:8080/"
        },
        "id": "2m27Vbjcns96",
        "outputId": "c0c22f26-9252-4213-dc7d-69dc32d7293b"
      },
      "execution_count": 35,
      "outputs": [
        {
          "output_type": "stream",
          "name": "stdout",
          "text": [
            "Matrix is square\n"
          ]
        }
      ]
    },
    {
      "cell_type": "code",
      "source": [
        "sqr = np.array([\n",
        "    [1,2,5,1,5,9],\n",
        "    [3,3,8,2,6,8],\n",
        "    [2,4,8,6,8,3],\n",
        "    [5,5,6,6,9,1],\n",
        "    [9,7,4,6,2,9]\n",
        "\n",
        "])\n",
        "describe_mat(sqr)"
      ],
      "metadata": {
        "colab": {
          "base_uri": "https://localhost:8080/"
        },
        "id": "uFHK3aoEoJjU",
        "outputId": "6bdf578e-2c6f-4a3e-e433-cdb4b8507b6f"
      },
      "execution_count": 36,
      "outputs": [
        {
          "output_type": "stream",
          "name": "stdout",
          "text": [
            "Matrix is non square\n"
          ]
        }
      ]
    },
    {
      "cell_type": "code",
      "source": [
        "def describe_mat(matrix):\n",
        "  if(matrix.size > 0):\n",
        "    is_square = True if matrix.shape[0] == matrix.shape[1] else False\n",
        "    print('Matrix is not empty')\n",
        "  else:\n",
        "    print('Matrix is empty')"
      ],
      "metadata": {
        "id": "SMVJ42eFseEu"
      },
      "execution_count": 96,
      "outputs": []
    },
    {
      "cell_type": "code",
      "source": [
        "empty_mat = np.array([])\n",
        "describe_mat(empty_mat)"
      ],
      "metadata": {
        "colab": {
          "base_uri": "https://localhost:8080/"
        },
        "id": "eQs3zrz0soeB",
        "outputId": "d9ece11b-351b-4639-a938-a9f192066ad3"
      },
      "execution_count": 97,
      "outputs": [
        {
          "output_type": "stream",
          "name": "stdout",
          "text": [
            "Matrix is empty\n"
          ]
        }
      ]
    },
    {
      "cell_type": "code",
      "source": [
        "empty_mat = np.array([\n",
        "    [1,2,5,1,5,9],\n",
        "    [3,3,8,2,6,8],\n",
        "    [2,4,8,6,8,3],\n",
        "    [5,5,6,6,9,1],\n",
        "    [9,7,4,6,2,9]\n",
        "\n",
        "])\n",
        "describe_mat(empty_mat)"
      ],
      "metadata": {
        "colab": {
          "base_uri": "https://localhost:8080/"
        },
        "id": "yZAHyKTKxuVB",
        "outputId": "9693dda0-6e13-417c-e8ff-8f003d1e4f24"
      },
      "execution_count": 102,
      "outputs": [
        {
          "output_type": "stream",
          "name": "stdout",
          "text": [
            "Matrix is not empty\n"
          ]
        }
      ]
    },
    {
      "cell_type": "code",
      "source": [
        "empty_mat = np.array([\n",
        "    [2,2,5,1,4,3],\n",
        "    [3,9,6,2,8,9]\n",
        "\n",
        "])\n",
        "describe_mat(empty_mat)"
      ],
      "metadata": {
        "colab": {
          "base_uri": "https://localhost:8080/"
        },
        "id": "NN3Z8Ak9x1TR",
        "outputId": "78b654ed-40d9-43cb-ff1f-5ebb190625e4"
      },
      "execution_count": 103,
      "outputs": [
        {
          "output_type": "stream",
          "name": "stdout",
          "text": [
            "Matrix is not empty\n"
          ]
        }
      ]
    },
    {
      "cell_type": "code",
      "source": [
        "def describe_mat(matrix):\n",
        "  zeros = np.zeros((matrix.shape[0], matrix.shape[1]))\n",
        "  if((zeros == matrix).all()):\n",
        "    print('Matrix is zero')\n",
        "  else:\n",
        "    print('Matrix is not zero')"
      ],
      "metadata": {
        "id": "9tisx3zvmdFj"
      },
      "execution_count": 77,
      "outputs": []
    },
    {
      "cell_type": "code",
      "source": [
        "zeros = np.array([\n",
        "      [1,5,4],\n",
        "      [1,2,3]\n",
        "  \n",
        "])\n",
        "describe_mat(zeros)"
      ],
      "metadata": {
        "colab": {
          "base_uri": "https://localhost:8080/"
        },
        "id": "CbSmm1UZtixr",
        "outputId": "62f9934d-a1aa-4314-8382-2703d2865f6d"
      },
      "execution_count": 78,
      "outputs": [
        {
          "output_type": "stream",
          "name": "stdout",
          "text": [
            "Matrix is not zero\n"
          ]
        }
      ]
    },
    {
      "cell_type": "markdown",
      "source": [
        "## TASK 2"
      ],
      "metadata": {
        "id": "nm58fyvCyvmz"
      }
    },
    {
      "cell_type": "code",
      "source": [
        "A = np.array([\n",
        "     [6,1,8,4], \n",
        "     [3,6,1,6],\n",
        "     [9,0,9,4]       \n",
        "])\n",
        "B = np.array([\n",
        "     [6,4,1,6], \n",
        "     [7,9,5,4],\n",
        "     [6,4,3,4]\n",
        "])\n",
        "A+B "
      ],
      "metadata": {
        "colab": {
          "base_uri": "https://localhost:8080/"
        },
        "id": "4LEn0FmpyzsC",
        "outputId": "98b70648-e1ed-4c6f-ed47-4a7d4f8b3a76"
      },
      "execution_count": 105,
      "outputs": [
        {
          "output_type": "execute_result",
          "data": {
            "text/plain": [
              "array([[12,  5,  9, 10],\n",
              "       [10, 15,  6, 10],\n",
              "       [15,  4, 12,  8]])"
            ]
          },
          "metadata": {},
          "execution_count": 105
        }
      ]
    },
    {
      "cell_type": "code",
      "source": [
        "A = np.array([\n",
        "     [2,1,6,1,2], \n",
        "     [6,0,7,2,3],\n",
        "     [3,3,9,6,7],\n",
        "     [3,4,0,6,5]        \n",
        "])\n",
        "B = np.array([\n",
        "     [1,2,2,3,9], \n",
        "     [1,2,2,0,1],\n",
        "     [1,2,1,3,1],\n",
        "     [3,6,9,6,7] \n",
        "])\n",
        "A+B "
      ],
      "metadata": {
        "colab": {
          "base_uri": "https://localhost:8080/"
        },
        "id": "sHOUlyRIzUaX",
        "outputId": "b7b7a91c-33c3-41b5-de3b-cfdd91562140"
      },
      "execution_count": 107,
      "outputs": [
        {
          "output_type": "execute_result",
          "data": {
            "text/plain": [
              "array([[ 3,  3,  8,  4, 11],\n",
              "       [ 7,  2,  9,  2,  4],\n",
              "       [ 4,  5, 10,  9,  8],\n",
              "       [ 6, 10,  9, 12, 12]])"
            ]
          },
          "metadata": {},
          "execution_count": 107
        }
      ]
    },
    {
      "cell_type": "code",
      "source": [
        "A = np.array([\n",
        "     [2,1,6,1,2,5], \n",
        "     [6,0,7,2,3,9],\n",
        "     [3,3,9,6,7,4],\n",
        "     [3,4,0,6,5,6]        \n",
        "])\n",
        "B = np.array([\n",
        "     [1,2,2,3,9,3], \n",
        "     [1,2,2,0,1,4],\n",
        "     [1,2,1,3,1,5],\n",
        "     [3,6,9,6,7,6] \n",
        "])\n",
        "A+B "
      ],
      "metadata": {
        "colab": {
          "base_uri": "https://localhost:8080/"
        },
        "id": "87hoXB2Hz07w",
        "outputId": "192d0d56-46be-490a-e2ca-2fb06d7c80a4"
      },
      "execution_count": 108,
      "outputs": [
        {
          "output_type": "execute_result",
          "data": {
            "text/plain": [
              "array([[ 3,  3,  8,  4, 11,  8],\n",
              "       [ 7,  2,  9,  2,  4, 13],\n",
              "       [ 4,  5, 10,  9,  8,  9],\n",
              "       [ 6, 10,  9, 12, 12, 12]])"
            ]
          },
          "metadata": {},
          "execution_count": 108
        }
      ]
    },
    {
      "cell_type": "code",
      "source": [
        "A = np.array([\n",
        "     [6,1,8,4], \n",
        "     [3,6,1,6],\n",
        "     [9,0,9,4]       \n",
        "])\n",
        "B = np.array([\n",
        "     [6,4,1,6], \n",
        "     [7,9,5,4],\n",
        "     [6,4,3,4]\n",
        "])\n",
        "A-B "
      ],
      "metadata": {
        "colab": {
          "base_uri": "https://localhost:8080/"
        },
        "id": "j0hPnhaOz_Kd",
        "outputId": "81de155d-8fe0-4d2e-a8a2-5960fa458fb6"
      },
      "execution_count": 109,
      "outputs": [
        {
          "output_type": "execute_result",
          "data": {
            "text/plain": [
              "array([[ 0, -3,  7, -2],\n",
              "       [-4, -3, -4,  2],\n",
              "       [ 3, -4,  6,  0]])"
            ]
          },
          "metadata": {},
          "execution_count": 109
        }
      ]
    },
    {
      "cell_type": "code",
      "source": [
        "A = np.array([\n",
        "     [2,1,6,1,2], \n",
        "     [6,0,7,2,3],\n",
        "     [3,3,9,6,7],\n",
        "     [3,4,0,6,5]        \n",
        "])\n",
        "B = np.array([\n",
        "     [1,2,2,3,9], \n",
        "     [1,2,2,0,1],\n",
        "     [1,2,1,3,1],\n",
        "     [3,6,9,6,7] \n",
        "])\n",
        "A-B "
      ],
      "metadata": {
        "colab": {
          "base_uri": "https://localhost:8080/"
        },
        "id": "S5T639MM0DKS",
        "outputId": "6b6624d9-490e-4493-fd6b-4e212e69f468"
      },
      "execution_count": 110,
      "outputs": [
        {
          "output_type": "execute_result",
          "data": {
            "text/plain": [
              "array([[ 1, -1,  4, -2, -7],\n",
              "       [ 5, -2,  5,  2,  2],\n",
              "       [ 2,  1,  8,  3,  6],\n",
              "       [ 0, -2, -9,  0, -2]])"
            ]
          },
          "metadata": {},
          "execution_count": 110
        }
      ]
    },
    {
      "cell_type": "code",
      "source": [
        "A = np.array([\n",
        "     [2,1,6,1,2,5], \n",
        "     [6,0,7,2,3,9],\n",
        "     [3,3,9,6,7,4],\n",
        "     [3,4,0,6,5,6]        \n",
        "])\n",
        "B = np.array([\n",
        "     [1,2,2,3,9,3], \n",
        "     [1,2,2,0,1,4],\n",
        "     [1,2,1,3,1,5],\n",
        "     [3,6,9,6,7,6] \n",
        "])\n",
        "10-B "
      ],
      "metadata": {
        "colab": {
          "base_uri": "https://localhost:8080/"
        },
        "id": "3zb2G_nV0GhW",
        "outputId": "3a2c8d0b-37e4-43a1-bbe0-323bd19dc5f3"
      },
      "execution_count": 112,
      "outputs": [
        {
          "output_type": "execute_result",
          "data": {
            "text/plain": [
              "array([[ 9,  8,  8,  7,  1,  7],\n",
              "       [ 9,  8,  8, 10,  9,  6],\n",
              "       [ 9,  8,  9,  7,  9,  5],\n",
              "       [ 7,  4,  1,  4,  3,  4]])"
            ]
          },
          "metadata": {},
          "execution_count": 112
        }
      ]
    },
    {
      "cell_type": "code",
      "source": [
        "A*B\n",
        "np.multiply(A,B)"
      ],
      "metadata": {
        "colab": {
          "base_uri": "https://localhost:8080/"
        },
        "id": "fi2RBTfM0tjd",
        "outputId": "99301cad-f3dd-4131-9eee-e81c5c80fce3"
      },
      "execution_count": 113,
      "outputs": [
        {
          "output_type": "execute_result",
          "data": {
            "text/plain": [
              "array([[ 2,  2, 12,  3, 18, 15],\n",
              "       [ 6,  0, 14,  0,  3, 36],\n",
              "       [ 3,  6,  9, 18,  7, 20],\n",
              "       [ 9, 24,  0, 36, 35, 36]])"
            ]
          },
          "metadata": {},
          "execution_count": 113
        }
      ]
    },
    {
      "cell_type": "code",
      "source": [
        "2*A\n",
        "np.multiply(A,B)"
      ],
      "metadata": {
        "colab": {
          "base_uri": "https://localhost:8080/"
        },
        "id": "K02Qpn2e00_k",
        "outputId": "5ffd861a-1f7e-4876-ad55-c60f01605ea9"
      },
      "execution_count": 118,
      "outputs": [
        {
          "output_type": "execute_result",
          "data": {
            "text/plain": [
              "array([[ 2,  2, 12,  3, 18, 15],\n",
              "       [ 6,  0, 14,  0,  3, 36],\n",
              "       [ 3,  6,  9, 18,  7, 20],\n",
              "       [ 9, 24,  0, 36, 35, 36]])"
            ]
          },
          "metadata": {},
          "execution_count": 118
        }
      ]
    },
    {
      "cell_type": "code",
      "source": [
        "A*3\n",
        "np.multiply(A,B)"
      ],
      "metadata": {
        "colab": {
          "base_uri": "https://localhost:8080/"
        },
        "id": "_MndLi8m1ABw",
        "outputId": "a70bd779-1630-42d8-ca4a-3d2d1fbe343d"
      },
      "execution_count": 119,
      "outputs": [
        {
          "output_type": "execute_result",
          "data": {
            "text/plain": [
              "array([[ 2,  2, 12,  3, 18, 15],\n",
              "       [ 6,  0, 14,  0,  3, 36],\n",
              "       [ 3,  6,  9, 18,  7, 20],\n",
              "       [ 9, 24,  0, 36, 35, 36]])"
            ]
          },
          "metadata": {},
          "execution_count": 119
        }
      ]
    },
    {
      "cell_type": "code",
      "source": [
        "import numpy as np\n",
        "\n",
        "a1 = np.array ([4,8,12])\n",
        "a2 = np.array ([2,4,6])\n",
        "a3 = a1/a2\n",
        "print(a3)"
      ],
      "metadata": {
        "colab": {
          "base_uri": "https://localhost:8080/"
        },
        "id": "BSDWmW202mxV",
        "outputId": "86c02242-579f-4dc8-9b27-8cc25836a0b3"
      },
      "execution_count": 125,
      "outputs": [
        {
          "output_type": "stream",
          "name": "stdout",
          "text": [
            "[2. 2. 2.]\n"
          ]
        }
      ]
    },
    {
      "cell_type": "code",
      "source": [
        "import numpy as np\n",
        "\n",
        "a1 = np.array ([6,12,18])\n",
        "a2 = np.array ([3,12,9])\n",
        "a3 = a1/a2\n",
        "print(a3)"
      ],
      "metadata": {
        "colab": {
          "base_uri": "https://localhost:8080/"
        },
        "id": "hN0-WJWq3KvN",
        "outputId": "eab9d97b-ec2a-44d4-f403-158b6e5c27fc"
      },
      "execution_count": 128,
      "outputs": [
        {
          "output_type": "stream",
          "name": "stdout",
          "text": [
            "[2. 1. 2.]\n"
          ]
        }
      ]
    },
    {
      "cell_type": "code",
      "source": [
        "import numpy as np\n",
        "\n",
        "a1 = np.array ([9,18,36])\n",
        "a2 = np.array ([3,3,6])\n",
        "a3 = a1/a2\n",
        "print(a3)"
      ],
      "metadata": {
        "colab": {
          "base_uri": "https://localhost:8080/"
        },
        "id": "zdEq_XVb3RGN",
        "outputId": "664dbb5d-117e-419f-822c-f19dd9f87093"
      },
      "execution_count": 127,
      "outputs": [
        {
          "output_type": "stream",
          "name": "stdout",
          "text": [
            "[3. 6. 6.]\n"
          ]
        }
      ]
    }
  ]
}