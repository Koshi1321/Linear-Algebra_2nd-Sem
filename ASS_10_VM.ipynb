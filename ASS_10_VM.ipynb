{
  "nbformat": 4,
  "nbformat_minor": 0,
  "metadata": {
    "colab": {
      "name": "ASS 10 VM",
      "provenance": [],
      "authorship_tag": "ABX9TyPfcxuoO4nSOpUqIpPpCzRc",
      "include_colab_link": true
    },
    "kernelspec": {
      "name": "python3",
      "display_name": "Python 3"
    },
    "language_info": {
      "name": "python"
    }
  },
  "cells": [
    {
      "cell_type": "markdown",
      "metadata": {
        "id": "view-in-github",
        "colab_type": "text"
      },
      "source": [
        "<a href=\"https://colab.research.google.com/github/Koshi1321/Linear-Algebra_2nd-Sem/blob/main/ASS_10_VM.ipynb\" target=\"_parent\"><img src=\"https://colab.research.google.com/assets/colab-badge.svg\" alt=\"Open In Colab\"/></a>"
      ]
    },
    {
      "cell_type": "code",
      "execution_count": null,
      "metadata": {
        "id": "9ZnQ7z_tQ0IS"
      },
      "outputs": [],
      "source": [
        "import numpy as np\n",
        "import matplotlib.pyplot as plt\n",
        "%matplotlib inline"
      ]
    },
    {
      "cell_type": "markdown",
      "source": [
        "### Linear Combination"
      ],
      "metadata": {
        "id": "pA3xABtvRrKw"
      }
    },
    {
      "cell_type": "markdown",
      "source": [
        "#### Linear combinations are attained by multiplying matrices by scalars, and by adding them together"
      ],
      "metadata": {
        "id": "dapzXzmdRs5t"
      }
    },
    {
      "cell_type": "markdown",
      "source": [
        "$$X = \\begin{bmatrix} 9\\\\4 \\\\\\end{bmatrix} , Y = \\begin{bmatrix} 1\\\\3 \\\\\\end{bmatrix} $$"
      ],
      "metadata": {
        "id": "8Q0JarvXR2XD"
      }
    },
    {
      "cell_type": "code",
      "source": [
        "vectX =  np.array([9,4])\n",
        "vectY =  np.array([1,3])\n",
        "vectY"
      ],
      "metadata": {
        "colab": {
          "base_uri": "https://localhost:8080/"
        },
        "id": "1Dc5SQsHR7WL",
        "outputId": "5de91097-72de-43b6-e0e8-8042d0c2c107"
      },
      "execution_count": null,
      "outputs": [
        {
          "output_type": "execute_result",
          "data": {
            "text/plain": [
              "array([1, 3])"
            ]
          },
          "metadata": {},
          "execution_count": 46
        }
      ]
    },
    {
      "cell_type": "markdown",
      "source": [
        "#### Span of single vectors"
      ],
      "metadata": {
        "id": "YgawtNJuST6C"
      }
    },
    {
      "cell_type": "markdown",
      "source": [
        "#### span of single vectors is represented by a line span"
      ],
      "metadata": {
        "id": "sjcahtQtSUqe"
      }
    },
    {
      "cell_type": "markdown",
      "source": [
        "$$X = c\\cdot \\begin{bmatrix} 6\\\\4 \\\\\\end{bmatrix} $$"
      ],
      "metadata": {
        "id": "D1gCXBk-SZwW"
      }
    },
    {
      "cell_type": "code",
      "source": [
        "A = np.arange(-10,10,0.25)\n",
        "\n",
        "plt.scatter(A*vectX[0],A*vectX[1])\n",
        "\n",
        "plt.xlim(-10,10)\n",
        "plt.ylim(-10,10)\n",
        "plt.axhline(y=0, color='k')\n",
        "plt.axvline(x=0, color='k')\n",
        "plt.grid()\n",
        "plt.show()"
      ],
      "metadata": {
        "colab": {
          "base_uri": "https://localhost:8080/",
          "height": 269
        },
        "id": "4xzXapuqSb2h",
        "outputId": "0930acc0-5a20-4f63-a3d3-8cf8d698c9e5"
      },
      "execution_count": null,
      "outputs": [
        {
          "output_type": "display_data",
          "data": {
            "text/plain": [
              "<Figure size 432x288 with 1 Axes>"
            ],
            "image/png": "[encoded data removed]"
          },
          "metadata": {
            "needs_background": "light"
          }
        }
      ]
    },
    {
      "cell_type": "markdown",
      "source": [
        "$$Y = c\\cdot \\begin{bmatrix} 4\\\\6 \\\\\\end{bmatrix} $$"
      ],
      "metadata": {
        "id": "RXKKdsN-UykL"
      }
    },
    {
      "cell_type": "code",
      "source": [
        "A = np.arange(-8,8,0.5)\n",
        "\n",
        "plt.scatter(A*vectY[0],A*vectY[1])\n",
        "\n",
        "plt.xlim(-20,20)\n",
        "plt.ylim(-20,20)\n",
        "plt.axhline(y=0, color='k')\n",
        "plt.axvline(x=0, color='k')\n",
        "plt.grid()\n",
        "plt.show()"
      ],
      "metadata": {
        "colab": {
          "base_uri": "https://localhost:8080/",
          "height": 269
        },
        "id": "MP4R-e3PV0cH",
        "outputId": "c3e5cd29-50c6-409a-d877-76a53d739bef"
      },
      "execution_count": null,
      "outputs": [
        {
          "output_type": "display_data",
          "data": {
            "text/plain": [
              "<Figure size 432x288 with 1 Axes>"
            ],
            "image/png": "[encoded data removed]"
          },
          "metadata": {
            "needs_background": "light"
          }
        }
      ]
    },
    {
      "cell_type": "markdown",
      "source": [
        "### Span of a linear combination of vectors"
      ],
      "metadata": {
        "id": "09MJ4VN9W938"
      }
    },
    {
      "cell_type": "markdown",
      "source": [
        "#### A vector is attained by adding  vectors with different directions and multiplied by scalar values."
      ],
      "metadata": {
        "id": "fELdYsY2W_Dx"
      }
    },
    {
      "cell_type": "markdown",
      "source": [
        "$$T = \\begin{Bmatrix} c_1 \\cdot\\begin{bmatrix} 2\\\\0 \\\\\\end{bmatrix}, \n",
        "c_2 \\cdot \\begin{bmatrix} -1\\\\2 \\\\\\end{bmatrix}\\end{Bmatrix} $$"
      ],
      "metadata": {
        "id": "vOfrqtV2XE7l"
      }
    },
    {
      "cell_type": "code",
      "source": [
        "vectA = np.array([2,0])\n",
        "vectB = np.array([-1,2])\n",
        "\n",
        "R = np.arange(-10,10,1)\n",
        "\n",
        "c1, c2 = np.meshgrid(R,R)\n",
        "\n",
        "vectR = vectA + vectB\n",
        "spanRx = c1*vectA[0] + c2*vectB[0]\n",
        "spanRy = c1*vectA[1] + c2*vectB[1]\n",
        "##plt.scatter(R*vectA[0],R*vectA[1])\n",
        "##plt.scatter(R*vectB[0],R*vectB[1])\n",
        "plt.scatter(spanRx,spanRy, s=5, alpha=0.75)\n",
        "\n",
        "plt.axhline(y=0, color='k')\n",
        "plt.axvline(x=0, color='k')\n",
        "plt.grid()\n",
        "plt.show()"
      ],
      "metadata": {
        "colab": {
          "base_uri": "https://localhost:8080/",
          "height": 265
        },
        "id": "AGnTs5QGW-Rp",
        "outputId": "f6f9785e-4e09-4999-c5a7-9c0ec8753c4e"
      },
      "execution_count": null,
      "outputs": [
        {
          "output_type": "display_data",
          "data": {
            "text/plain": [
              "<Figure size 432x288 with 1 Axes>"
            ],
            "image/png": "[encoded data removed]"
          },
          "metadata": {
            "needs_background": "light"
          }
        }
      ]
    },
    {
      "cell_type": "code",
      "source": [
        "vectP = np.array([2,1])\n",
        "vectQ = np.array([4,3])\n",
        "\n",
        "R = np.arange(-10,10,1)\n",
        "\n",
        "c1, c2 = np.meshgrid(R,R)\n",
        "\n",
        "vectR = vectP + vectQ\n",
        "spanRx = c1*vectP[0] + c2*vectQ[0]\n",
        "spanRy = c1*vectP[1] + c2*vectQ[1]\n",
        "##plt.scatter(R*vectA[0],R*vectA[1])\n",
        "##plt.scatter(R*vectB[0],R*vectB[1])\n",
        "plt.scatter(spanRx,spanRy, s=5, alpha=0.75)\n",
        "\n",
        "plt.axhline(y=0, color='k')\n",
        "plt.axvline(x=0, color='k')\n",
        "plt.grid()\n",
        "plt.show()"
      ],
      "metadata": {
        "id": "nldv7n6aaNW0",
        "outputId": "9e95a6a0-cd2c-4193-e6ca-6a6d81ab8e29",
        "colab": {
          "base_uri": "https://localhost:8080/",
          "height": 265
        }
      },
      "execution_count": null,
      "outputs": [
        {
          "output_type": "display_data",
          "data": {
            "text/plain": [
              "<Figure size 432x288 with 1 Axes>"
            ],
            "image/png": "[encoded data removed]"
          },
          "metadata": {
            "needs_background": "light"
          }
        }
      ]
    },
    {
      "cell_type": "markdown",
      "source": [
        "####Task1"
      ],
      "metadata": {
        "id": "2BySvwfQYTCS"
      }
    },
    {
      "cell_type": "code",
      "source": [
        "vectorP = np.array([6,1])\n",
        "vectorQ = np.array([8,3])\n",
        "#vectorR = np.array([5,7])\n",
        "\n",
        "M = np.arange(-5,20,1)\n",
        "\n",
        "G,H,I = np.meshgrid(M,M,M)\n",
        "\n",
        "vectorM = vectorP + vectorQ\n",
        "spanLx = G*vectorP[0] + H*vectorQ[0] \n",
        "spanLy = G*vectorP[1] + H*vectorQ[1] \n",
        "#spanLz = G*vectorP[2] + H*vectorQ[2] \n",
        "plt.scatter(M*vectorP[0],M*vectorQ[1])\n",
        "plt.scatter(M*vectorP[0],M*vectorQ[1])\n",
        "plt.scatter(spanLx,spanLy,s=0.05, alpha=0.90)\n",
        "plt.axhline(y=0, color='k')\n",
        "plt.axvline(x=0, color='k')\n",
        "plt.grid()\n",
        "plt.show()"
      ],
      "metadata": {
        "colab": {
          "base_uri": "https://localhost:8080/",
          "height": 268
        },
        "id": "svK7gsb5HH2J",
        "outputId": "cd11026e-1787-4fdb-e3a3-4e34f02519e7"
      },
      "execution_count": null,
      "outputs": [
        {
          "output_type": "display_data",
          "data": {
            "text/plain": [
              "<Figure size 432x288 with 1 Axes>"
            ],
            "image/png": "[encoded data removed]"
          },
          "metadata": {
            "needs_background": "light"
          }
        }
      ]
    }
  ]
}