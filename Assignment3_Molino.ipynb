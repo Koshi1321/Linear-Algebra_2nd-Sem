{
  "nbformat": 4,
  "nbformat_minor": 0,
  "metadata": {
    "colab": {
      "name": "Assignment3_Molino.ipynb",
      "provenance": [],
      "collapsed_sections": [
        "g6DFGJ2L-B8D",
        "JQ_XuXQ9cgrS",
        "VLSRGpjeCSME",
        "HM490e1JDsxU",
        "CRToQ8EeEna0",
        "GPZK8gh9F2sX",
        "ktApmtRhGcEn",
        "D8lQWFz7Gs_K",
        "D2PhQfyEHZZr",
        "CXBMVUniHsBp",
        "QMEZdfHrIOSX",
        "VfuMVFAaI9c3",
        "OwK1J0Y8JpAB",
        "Vi0iOSURJ6Eb"
      ],
      "authorship_tag": "ABX9TyMKMCh1HYxBvNxqhV4QWgic",
      "include_colab_link": true
    },
    "kernelspec": {
      "name": "python3",
      "display_name": "Python 3"
    },
    "language_info": {
      "name": "python"
    }
  },
  "cells": [
    {
      "cell_type": "markdown",
      "metadata": {
        "id": "view-in-github",
        "colab_type": "text"
      },
      "source": [
        "<a href=\"https://colab.research.google.com/github/Koshi1321/Linear-Algebra_2nd-Sem/blob/main/Assignment3_Molino.ipynb\" target=\"_parent\"><img src=\"https://colab.research.google.com/assets/colab-badge.svg\" alt=\"Open In Colab\"/></a>"
      ]
    },
    {
      "cell_type": "markdown",
      "source": [
        "# Linear Algebra for ChE\n",
        "## Laboratory 2: Matrices"
      ],
      "metadata": {
        "id": "LtSleYPSxsfS"
      }
    },
    {
      "cell_type": "markdown",
      "source": [
        "# Objectives\n",
        "At the end of this activity you will be able to:\n",
        "\n",
        "Be familiar with matrices and their relation to linear equations.\n",
        "Perform basic matrix operations.\n",
        "Program and translate matrix equations and operations using Python."
      ],
      "metadata": {
        "id": "uNxzUwFBx-r9"
      }
    },
    {
      "cell_type": "markdown",
      "source": [
        "# Discussion"
      ],
      "metadata": {
        "id": "NdUxDCBKyE-_"
      }
    },
    {
      "cell_type": "code",
      "source": [
        "import numpy as np\n",
        "import matplotlib.pyplot as plt\n",
        "import scipy.linalg as la\n",
        "%matplotlib inline"
      ],
      "metadata": {
        "id": "TI9B65xmyLoU"
      },
      "execution_count": null,
      "outputs": []
    },
    {
      "cell_type": "markdown",
      "source": [
        "## Matrices \n",
        "#### The notation and use of matrices is probably one of the fundanmentals of modern computing. Matrices are also handy representation of complex equations or multiple complex equations or multiple inter-related equations from 2- dimensional equations to even hundreds and thousans of them. It is a rectangular arrays of numbers, symbols, or expressions, arranged in rows and columns.\n",
        "\n",
        "### Let's say for example you have A and B as system of equation.\n",
        "\n",
        "$$\n",
        "A = \\left\\{\n",
        "    \\begin{array}\\\n",
        "        x + y \\\\ \n",
        "        4x - 10y\n",
        "    \\end{array}\n",
        "\\right. \\\\\n",
        "B = \\left\\{\n",
        "    \\begin{array}\\\n",
        "        x+y+z \\\\ \n",
        "        4x -3y -z \\\\\n",
        "        -3x + 5y +5z\n",
        "    \\end{array}\n",
        "\\right. \\\\\n",
        "C= \\left\\{\n",
        "    \\begin{array}\\\n",
        "        w-x+y+z \\\\ \n",
        "        3w-6x -2y -6z \\\\\n",
        "        6w-5x + 7y +5z\n",
        "    \\end{array}\n",
        "\\right. $$\n"
      ],
      "metadata": {
        "id": "QaSlqRlRzbeS"
      }
    },
    {
      "cell_type": "markdown",
      "source": [
        "### We could see that A is a system of 2 equations with 2 parameters. While B is a system of 3 equations with 3 parameters. We can represent them as matrices as:\n",
        "\n",
        ":$$\n",
        "A=\\begin{bmatrix} 1 & 1 \\\\ 4 & {-10}\\end{bmatrix} \\\\\n",
        "B=\\begin{bmatrix} 1 & 1 & 1 \\\\ 4 & -3 & -1 \\\\ -1 & 4 & 2\\end{bmatrix} \\\\\n",
        "C=\\begin{bmatrix} 1 & 1 & 1 & 1 \\\\ 3 & -6 & -2 & -6 \\\\ 6 & -5 & 7 & 5\\end{bmatrix}\n",
        "$$\n"
      ],
      "metadata": {
        "id": "xwXgX1vB1L51"
      }
    },
    {
      "cell_type": "markdown",
      "source": [
        "# Declaring Matrices\n",
        "#### The set of numbers arranged in rows and columnsare called the elements, or entries, of the matrix. Denoted by i is the number of rows in the matrix while j stands  for the number of columns.\n",
        "#### This can be represented just like the equation below.\n",
        "\n",
        "$$A=\\begin{bmatrix}\n",
        "a_{(0,0)}&a_{(0,1)}&\\dots&a_{(0,j-1)}\\\\\n",
        "a_{(1,0)}&a_{(1,1)}&\\dots&a_{(1,j-1)}\\\\\n",
        "\\vdots&\\vdots&\\ddots&\\vdots&\\\\\n",
        "a_{(i-1,0)}&a_{(i-1,1)}&\\dots&a_{(i-1,j-1)}\n",
        "\\end{bmatrix}\n",
        "$$\n"
      ],
      "metadata": {
        "id": "87Y5x6TJ3a8H"
      }
    },
    {
      "cell_type": "code",
      "source": [
        "def describe_mat(matrix):\n",
        "  print(f'Matrix:\\n{matrix}\\n\\nShape:\\t{matrix.shape}\\nRank:\\t{matrix.ndim}\\n')"
      ],
      "metadata": {
        "id": "Fu-536mo31GF"
      },
      "execution_count": null,
      "outputs": []
    },
    {
      "cell_type": "code",
      "source": [
        "## Declaring a 2 x 2 matirx\n",
        "A = np.array([\n",
        "  [1, 3],\n",
        "  [4, 5]\n",
        "])\n",
        "describe_mat(A)"
      ],
      "metadata": {
        "colab": {
          "base_uri": "https://localhost:8080/"
        },
        "id": "PQ1mBGnI4Se2",
        "outputId": "a55b8b0f-d27c-4d5a-9eaa-7f9c17cd3c41"
      },
      "execution_count": null,
      "outputs": [
        {
          "output_type": "stream",
          "name": "stdout",
          "text": [
            "Matrix:\n",
            "[[1 3]\n",
            " [4 5]]\n",
            "\n",
            "Shape:\t(2, 2)\n",
            "Rank:\t2\n",
            "\n"
          ]
        }
      ]
    },
    {
      "cell_type": "code",
      "source": [
        "G = np.array([\n",
        " [1,1,1],\n",
        " [2,3,4]\n",
        "])\n",
        "describe_mat(G)"
      ],
      "metadata": {
        "colab": {
          "base_uri": "https://localhost:8080/"
        },
        "id": "wgmsujjq6JWY",
        "outputId": "79a50549-e8b5-4c2c-cee0-38517a356332"
      },
      "execution_count": null,
      "outputs": [
        {
          "output_type": "stream",
          "name": "stdout",
          "text": [
            "Matrix:\n",
            "[[1 1 1]\n",
            " [2 3 4]]\n",
            "\n",
            "Shape:\t(2, 3)\n",
            "Rank:\t2\n",
            "\n"
          ]
        }
      ]
    },
    {
      "cell_type": "code",
      "source": [
        "H = np.array([1,2,3,4,5])\n",
        "describe_mat(H)"
      ],
      "metadata": {
        "colab": {
          "base_uri": "https://localhost:8080/"
        },
        "id": "TU3UANCj6h2D",
        "outputId": "21fadffa-88f9-49f0-9f3d-5474293a45ac"
      },
      "execution_count": null,
      "outputs": [
        {
          "output_type": "stream",
          "name": "stdout",
          "text": [
            "Matrix:\n",
            "[1 2 3 4 5]\n",
            "\n",
            "Shape:\t(5,)\n",
            "Rank:\t1\n",
            "\n"
          ]
        }
      ]
    },
    {
      "cell_type": "markdown",
      "source": [
        "## According to shape"
      ],
      "metadata": {
        "id": "N9cIci3Z7RCm"
      }
    },
    {
      "cell_type": "markdown",
      "source": [
        "### Row and Column Matrices\n",
        "\n",
        "#### Row and column matrices are common in vector and matrix computations. The horizontal entries are called rows while the vertical lines of entries are called columns."
      ],
      "metadata": {
        "id": "xMvJ7jEY7VQP"
      }
    },
    {
      "cell_type": "code",
      "source": [
        "## Declaring a Row Matrix\n",
        "\n",
        "row_mat_1D = np.array([\n",
        "    1,5,2,-8                \n",
        "])\n",
        "row_mat_2D = np.array([\n",
        "  [1,3,5,10]\n",
        "])\n",
        "describe_mat(row_mat_1D)\n",
        "describe_mat(row_mat_2D)"
      ],
      "metadata": {
        "colab": {
          "base_uri": "https://localhost:8080/"
        },
        "id": "VrYdaWeF7hT6",
        "outputId": "b315e2ef-bb85-4fde-c72d-79a4cf9aa008"
      },
      "execution_count": null,
      "outputs": [
        {
          "output_type": "stream",
          "name": "stdout",
          "text": [
            "Matrix:\n",
            "[ 1  5  2 -8]\n",
            "\n",
            "Shape:\t(4,)\n",
            "Rank:\t1\n",
            "\n",
            "Matrix:\n",
            "[[ 1  3  5 10]]\n",
            "\n",
            "Shape:\t(1, 4)\n",
            "Rank:\t2\n",
            "\n"
          ]
        }
      ]
    },
    {
      "cell_type": "code",
      "source": [
        "## Declaring a Column Matrix\n",
        "\n",
        "col_mat = np.array([\n",
        "    [200000],\n",
        "    [355],\n",
        "    [55],\n",
        "])\n",
        "describe_mat(col_mat)"
      ],
      "metadata": {
        "colab": {
          "base_uri": "https://localhost:8080/"
        },
        "id": "r8gy9Dym9Vcx",
        "outputId": "6a797fef-b08f-42c1-ff70-6f653726f9ae"
      },
      "execution_count": null,
      "outputs": [
        {
          "output_type": "stream",
          "name": "stdout",
          "text": [
            "Matrix:\n",
            "[[200000]\n",
            " [   355]\n",
            " [    55]]\n",
            "\n",
            "Shape:\t(3, 1)\n",
            "Rank:\t2\n",
            "\n"
          ]
        }
      ]
    },
    {
      "cell_type": "markdown",
      "source": [
        "### Square Matrices\n",
        "#### It is a matrix with the same sizes of rows and columns."
      ],
      "metadata": {
        "id": "g6DFGJ2L-B8D"
      }
    },
    {
      "cell_type": "code",
      "source": [
        "def describe_mat(matrix):\n",
        "    is_square = True  if matrix.shape[0] == matrix.shape[1] else False\n",
        "    print(f'Matrix:\\n[matrix]\\n\\nShape:\\t{matrix.shape}\\nRank:\\t{matrix.ndim}\\nis Square: {is_square}\\n')"
      ],
      "metadata": {
        "id": "inanN89m-F1s"
      },
      "execution_count": null,
      "outputs": []
    },
    {
      "cell_type": "code",
      "source": [
        "square_mat = np.array([\n",
        "  [1,4,7],\n",
        "  [5,3,7],\n",
        "  [1,7,5]\n",
        "])\n",
        "\n",
        "non_square_mat =  np.array([\n",
        "  [8,9,10],\n",
        "  [5,6,5]   \n",
        "])\n",
        "describe_mat(square_mat)\n",
        "describe_mat(non_square_mat)"
      ],
      "metadata": {
        "colab": {
          "base_uri": "https://localhost:8080/"
        },
        "id": "-Ir9cU2y-tVd",
        "outputId": "96bda7b2-b4c3-414e-d5a4-613a104393f7"
      },
      "execution_count": null,
      "outputs": [
        {
          "output_type": "stream",
          "name": "stdout",
          "text": [
            "Matrix:\n",
            "[matrix]\n",
            "\n",
            "Shape:\t(3, 3)\n",
            "Rank:\t2\n",
            "is Square: True\n",
            "\n",
            "Matrix:\n",
            "[matrix]\n",
            "\n",
            "Shape:\t(2, 3)\n",
            "Rank:\t2\n",
            "is Square: False\n",
            "\n"
          ]
        }
      ]
    },
    {
      "cell_type": "markdown",
      "source": [
        "# According to element values\n",
        "\n",
        "\n"
      ],
      "metadata": {
        "id": "Rk-jt_QSBDXh"
      }
    },
    {
      "cell_type": "markdown",
      "source": [
        "## Null Matrix\n",
        "#### Null Matrix is a matrix having zero as each of its elements. "
      ],
      "metadata": {
        "id": "JQ_XuXQ9cgrS"
      }
    },
    {
      "cell_type": "code",
      "source": [
        "def describe_mat(matrix):\n",
        "  if matrix.size > 0:\n",
        "    is_square = True if matrix.shape[0] == matrix.shape[1] else False\n",
        "    print(f'Matrix:\\n{matrix}\\n\\nShape:\\t{matrix.shape}\\nRank:\\t{matrix.ndim}\\nis Square: {is_square}\\n')\n",
        "  else:\n",
        "    print('Matrix is Null')"
      ],
      "metadata": {
        "id": "S3HlHZZWBGGI"
      },
      "execution_count": null,
      "outputs": []
    },
    {
      "cell_type": "code",
      "source": [
        "null_mat = np.array([])\n",
        "describe_mat(null_mat)"
      ],
      "metadata": {
        "colab": {
          "base_uri": "https://localhost:8080/"
        },
        "id": "LOPGc4-FBiSg",
        "outputId": "f33bf0d4-2232-4031-a33d-853fa707213d"
      },
      "execution_count": null,
      "outputs": [
        {
          "output_type": "stream",
          "name": "stdout",
          "text": [
            "Matrix is Null\n"
          ]
        }
      ]
    },
    {
      "cell_type": "markdown",
      "source": [
        "## Zero Matrix\n",
        "#### Matrix in which all elements are zero."
      ],
      "metadata": {
        "id": "VLSRGpjeCSME"
      }
    },
    {
      "cell_type": "code",
      "source": [
        "zero_mat_row = np.zeros((1,2))\n",
        "zero_mat_sqr = np.zeros((2,2))\n",
        "zero_mat_rct = np.zeros((3,2))\n",
        "\n",
        "print(f'Zero Row Matrix: \\n{zero_mat_row}')\n",
        "print(f'Zero Square Matrix: \\n{zero_mat_sqr}')\n",
        "print(f'Zero Rectangular Matrix: \\n{zero_mat_rct}')"
      ],
      "metadata": {
        "colab": {
          "base_uri": "https://localhost:8080/"
        },
        "id": "cbqeY112CVWY",
        "outputId": "a87658c6-4125-40b7-eea2-77306d23d789"
      },
      "execution_count": null,
      "outputs": [
        {
          "output_type": "stream",
          "name": "stdout",
          "text": [
            "Zero Row Matrix: \n",
            "[[0. 0.]]\n",
            "Zero Square Matrix: \n",
            "[[0. 0.]\n",
            " [0. 0.]]\n",
            "Zero Rectangular Matrix: \n",
            "[[0. 0.]\n",
            " [0. 0.]\n",
            " [0. 0.]]\n"
          ]
        }
      ]
    },
    {
      "cell_type": "markdown",
      "source": [
        "##Ones Matrix\n",
        "#### Matrix in which all elements are 1s instead of 0s"
      ],
      "metadata": {
        "id": "HM490e1JDsxU"
      }
    },
    {
      "cell_type": "code",
      "source": [
        "ones_mat_row = np.ones((1,2))\n",
        "ones_mat_sqr = np.ones((2,2))\n",
        "ones_mat_rct = np.ones((3,2))\n",
        "\n",
        "print(f'Ones Row Matrix: \\n{ones_mat_row}')\n",
        "print(f'Ones Square Matrix: \\n{ones_mat_sqr}')\n",
        "print(f'Ones Rectangular Matrix: \\n{ones_mat_rct}')"
      ],
      "metadata": {
        "colab": {
          "base_uri": "https://localhost:8080/"
        },
        "id": "n0yXdl1XDvO4",
        "outputId": "891e6647-992e-44cc-f904-afd79376295a"
      },
      "execution_count": null,
      "outputs": [
        {
          "output_type": "stream",
          "name": "stdout",
          "text": [
            "Ones Row Matrix: \n",
            "[[1. 1.]]\n",
            "Ones Square Matrix: \n",
            "[[1. 1.]\n",
            " [1. 1.]]\n",
            "Ones Rectangular Matrix: \n",
            "[[1. 1.]\n",
            " [1. 1.]\n",
            " [1. 1.]]\n"
          ]
        }
      ]
    },
    {
      "cell_type": "markdown",
      "source": [
        "##Diagonal Matrix\n",
        "#### Square matrix in which all off-diagonal entries are zero"
      ],
      "metadata": {
        "id": "CRToQ8EeEna0"
      }
    },
    {
      "cell_type": "code",
      "source": [
        "np.array([\n",
        "   [7,0,0],\n",
        "   [0,4,0],\n",
        "   [0,0,6]      \n",
        "])"
      ],
      "metadata": {
        "colab": {
          "base_uri": "https://localhost:8080/"
        },
        "id": "iFtbci9mEqcn",
        "outputId": "e0785129-f3f6-4173-b21d-0755b9509f73"
      },
      "execution_count": null,
      "outputs": [
        {
          "output_type": "execute_result",
          "data": {
            "text/plain": [
              "array([[7, 0, 0],\n",
              "       [0, 4, 0],\n",
              "       [0, 0, 6]])"
            ]
          },
          "metadata": {},
          "execution_count": 15
        }
      ]
    },
    {
      "cell_type": "code",
      "source": [
        "d = np.diag([9,4,6,5])\n",
        "d.shape[0] == d.shape[1]\n",
        "d"
      ],
      "metadata": {
        "colab": {
          "base_uri": "https://localhost:8080/"
        },
        "id": "ObTZKRXZE9U0",
        "outputId": "d39eeb8c-487f-4935-e816-f1c6eda68fc5"
      },
      "execution_count": null,
      "outputs": [
        {
          "output_type": "execute_result",
          "data": {
            "text/plain": [
              "array([[9, 0, 0, 0],\n",
              "       [0, 4, 0, 0],\n",
              "       [0, 0, 6, 0],\n",
              "       [0, 0, 0, 5]])"
            ]
          },
          "metadata": {},
          "execution_count": 16
        }
      ]
    },
    {
      "cell_type": "markdown",
      "source": [
        "##Identity Matrix\n",
        "#### Square matrix having 1s diagonally and 0s everywhere else"
      ],
      "metadata": {
        "id": "GPZK8gh9F2sX"
      }
    },
    {
      "cell_type": "code",
      "source": [
        "np.eye(4)"
      ],
      "metadata": {
        "colab": {
          "base_uri": "https://localhost:8080/"
        },
        "id": "mOOOGOkGF4iG",
        "outputId": "b02ec684-85f0-4c2a-ab4d-d3f0abe8e8b1"
      },
      "execution_count": null,
      "outputs": [
        {
          "output_type": "execute_result",
          "data": {
            "text/plain": [
              "array([[1., 0., 0., 0.],\n",
              "       [0., 1., 0., 0.],\n",
              "       [0., 0., 1., 0.],\n",
              "       [0., 0., 0., 1.]])"
            ]
          },
          "metadata": {},
          "execution_count": 17
        }
      ]
    },
    {
      "cell_type": "code",
      "source": [
        "np.identity(6)"
      ],
      "metadata": {
        "colab": {
          "base_uri": "https://localhost:8080/"
        },
        "id": "77rtrmDTF_fs",
        "outputId": "a7b53edf-8858-476f-cde4-79f3b6887c27"
      },
      "execution_count": null,
      "outputs": [
        {
          "output_type": "execute_result",
          "data": {
            "text/plain": [
              "array([[1., 0., 0., 0., 0., 0.],\n",
              "       [0., 1., 0., 0., 0., 0.],\n",
              "       [0., 0., 1., 0., 0., 0.],\n",
              "       [0., 0., 0., 1., 0., 0.],\n",
              "       [0., 0., 0., 0., 1., 0.],\n",
              "       [0., 0., 0., 0., 0., 1.]])"
            ]
          },
          "metadata": {},
          "execution_count": 18
        }
      ]
    },
    {
      "cell_type": "markdown",
      "source": [
        "##Upper Triangular Matrix\n",
        "#### Matrix having zero in all elements below the main diagonal"
      ],
      "metadata": {
        "id": "ktApmtRhGcEn"
      }
    },
    {
      "cell_type": "code",
      "source": [
        "np.array([\n",
        "   [7,3,8,5],\n",
        "   [0,4,9,-1],\n",
        "   [0,0,6,2], \n",
        "   [0,0,0,2]     \n",
        "])"
      ],
      "metadata": {
        "colab": {
          "base_uri": "https://localhost:8080/"
        },
        "id": "2PxLJ0ejGfRw",
        "outputId": "a26f1638-918e-416b-ef5c-d0beb341e66a"
      },
      "execution_count": null,
      "outputs": [
        {
          "output_type": "execute_result",
          "data": {
            "text/plain": [
              "array([[ 7,  3,  8,  5],\n",
              "       [ 0,  4,  9, -1],\n",
              "       [ 0,  0,  6,  2],\n",
              "       [ 0,  0,  0,  2]])"
            ]
          },
          "metadata": {},
          "execution_count": 19
        }
      ]
    },
    {
      "cell_type": "markdown",
      "source": [
        "## Lower Triangular Matrix\n",
        "#### A lower triangular matrix is a matrix that has no values above the diagonal"
      ],
      "metadata": {
        "id": "D8lQWFz7Gs_K"
      }
    },
    {
      "cell_type": "code",
      "source": [
        "np.array([\n",
        "   [6,3,0,0],\n",
        "   [9,4,5,0],\n",
        "   [1,8,6,2]     \n",
        "])"
      ],
      "metadata": {
        "colab": {
          "base_uri": "https://localhost:8080/"
        },
        "id": "E6SA6bFAGwcU",
        "outputId": "bd0d5e0c-fe9d-485b-f129-f36f1bcff830"
      },
      "execution_count": null,
      "outputs": [
        {
          "output_type": "execute_result",
          "data": {
            "text/plain": [
              "array([[6, 3, 0, 0],\n",
              "       [9, 4, 5, 0],\n",
              "       [1, 8, 6, 2]])"
            ]
          },
          "metadata": {},
          "execution_count": 20
        }
      ]
    },
    {
      "cell_type": "markdown",
      "source": [
        "## Practice\n",
        "\n",
        "#### 1. Given the linear combination below, try to create a corresponding matrix representing it.\n",
        "\n",
        ":$$\\theta = 5x + 3y - z$$\n"
      ],
      "metadata": {
        "id": "D2PhQfyEHZZr"
      }
    },
    {
      "cell_type": "code",
      "source": [
        "A = np.array([5,3,-1])\n",
        "print(A)\n"
      ],
      "metadata": {
        "id": "jkwHosPVH9Lw",
        "colab": {
          "base_uri": "https://localhost:8080/"
        },
        "outputId": "56f41fc1-4f8a-4468-b64e-b3b80b698ebf"
      },
      "execution_count": null,
      "outputs": [
        {
          "output_type": "stream",
          "name": "stdout",
          "text": [
            "[ 5  3 -1]\n"
          ]
        }
      ]
    },
    {
      "cell_type": "markdown",
      "source": [
        "### 2.Given the system of linear combinations below, try to encode it as a matrix. Also describe the matrix.\n",
        "\n",
        "$$\n",
        "A = \\left\\{\\begin{array}\n",
        "5x_1 + 2x_2 +x_3\\\\\n",
        "4x_2 - x_3\\\\\n",
        "10x_3\n",
        "\\end{array}\\right.\n",
        "$$\n"
      ],
      "metadata": {
        "id": "CXBMVUniHsBp"
      }
    },
    {
      "cell_type": "code",
      "source": [
        "AA = np.array([\n",
        "    [1, 1,1],\n",
        "    [0,-4, -1],\n",
        "    [0,0,10]\n",
        "])\n",
        "describe_mat(AA)"
      ],
      "metadata": {
        "id": "bh_hqISdIltU",
        "colab": {
          "base_uri": "https://localhost:8080/"
        },
        "outputId": "687ace0a-a13a-412c-b405-198469275347"
      },
      "execution_count": null,
      "outputs": [
        {
          "output_type": "stream",
          "name": "stdout",
          "text": [
            "Matrix:\n",
            "[[ 1  1  1]\n",
            " [ 0 -4 -1]\n",
            " [ 0  0 10]]\n",
            "\n",
            "Shape:\t(3, 3)\n",
            "Rank:\t2\n",
            "is Square: True\n",
            "\n"
          ]
        }
      ]
    },
    {
      "cell_type": "markdown",
      "source": [
        "### 3. Given the matrix below, express it as a linear combination in a markdown and a LaTeX markdown\n",
        "\n",
        "\n"
      ],
      "metadata": {
        "id": "QMEZdfHrIOSX"
      }
    },
    {
      "cell_type": "code",
      "source": [
        "G = np.array([\n",
        "    [1,7,8],\n",
        "    [2,2,2],\n",
        "    [4,6,7]\n",
        "])\n"
      ],
      "metadata": {
        "id": "JcDGQ38oI7Qj"
      },
      "execution_count": null,
      "outputs": []
    },
    {
      "cell_type": "code",
      "source": [
        "G = np.array([\n",
        "    [1,7,8],\n",
        "    [2,2,2],\n",
        "    [4,6,7]\n",
        "])"
      ],
      "metadata": {
        "id": "LO92B3IC5Cl_"
      },
      "execution_count": null,
      "outputs": []
    },
    {
      "cell_type": "markdown",
      "source": [
        "## 4. Given the matrix below, display the output as a LaTeX markdown also express it as a system of linear combinations\n"
      ],
      "metadata": {
        "id": "VfuMVFAaI9c3"
      }
    },
    {
      "cell_type": "code",
      "source": [
        "H = np.tril(G)\n",
        "H\n"
      ],
      "metadata": {
        "colab": {
          "base_uri": "https://localhost:8080/"
        },
        "id": "w1c4EiVpJG6A",
        "outputId": "2eaf450d-21c0-49ea-f7b8-416d9219b3b8"
      },
      "execution_count": null,
      "outputs": [
        {
          "output_type": "execute_result",
          "data": {
            "text/plain": [
              "array([[1, 0, 0],\n",
              "       [2, 2, 0],\n",
              "       [4, 6, 7]])"
            ]
          },
          "metadata": {},
          "execution_count": 23
        }
      ]
    },
    {
      "cell_type": "markdown",
      "source": [
        "# Matrix Algebra"
      ],
      "metadata": {
        "id": "zwOQM6ePJLf1"
      }
    },
    {
      "cell_type": "markdown",
      "source": [
        "####Addition"
      ],
      "metadata": {
        "id": "OwK1J0Y8JpAB"
      }
    },
    {
      "cell_type": "code",
      "source": [
        "A = np.array([\n",
        "     [9,3], \n",
        "     [5,4],\n",
        "     [6,9]       \n",
        "])\n",
        "B = np.array([\n",
        "     [1,2], \n",
        "     [1,2],\n",
        "     [1,2]\n",
        "])\n",
        "A+B "
      ],
      "metadata": {
        "colab": {
          "base_uri": "https://localhost:8080/"
        },
        "id": "kdynBS0nJNYk",
        "outputId": "08fa6aa3-232a-41bb-a826-29a76551f411"
      },
      "execution_count": null,
      "outputs": [
        {
          "output_type": "execute_result",
          "data": {
            "text/plain": [
              "array([[10,  5],\n",
              "       [ 6,  6],\n",
              "       [ 7, 11]])"
            ]
          },
          "metadata": {},
          "execution_count": 24
        }
      ]
    },
    {
      "cell_type": "code",
      "source": [
        "2+A "
      ],
      "metadata": {
        "colab": {
          "base_uri": "https://localhost:8080/"
        },
        "id": "hMsWhyJdJsho",
        "outputId": "fe03aa7c-4404-4ef0-f896-5769aaaf85b0"
      },
      "execution_count": null,
      "outputs": [
        {
          "output_type": "execute_result",
          "data": {
            "text/plain": [
              "array([[11,  5],\n",
              "       [ 7,  6],\n",
              "       [ 8, 11]])"
            ]
          },
          "metadata": {},
          "execution_count": 25
        }
      ]
    },
    {
      "cell_type": "markdown",
      "source": [
        "### Subtraction"
      ],
      "metadata": {
        "id": "Vi0iOSURJ6Eb"
      }
    },
    {
      "cell_type": "code",
      "source": [
        "A = np.array([\n",
        "     [9,3], \n",
        "     [5,4],\n",
        "     [6,9]       \n",
        "])\n",
        "B = np.array([\n",
        "     [1,2], \n",
        "     [1,2],\n",
        "     [1,2]\n",
        "])\n",
        "A-B "
      ],
      "metadata": {
        "colab": {
          "base_uri": "https://localhost:8080/"
        },
        "id": "LxRuFxd6J8IJ",
        "outputId": "d165e909-35f5-46d1-a891-1620227d0e9e"
      },
      "execution_count": null,
      "outputs": [
        {
          "output_type": "execute_result",
          "data": {
            "text/plain": [
              "array([[8, 1],\n",
              "       [4, 2],\n",
              "       [5, 7]])"
            ]
          },
          "metadata": {},
          "execution_count": 26
        }
      ]
    },
    {
      "cell_type": "code",
      "source": [
        "3-B"
      ],
      "metadata": {
        "colab": {
          "base_uri": "https://localhost:8080/"
        },
        "id": "2dDD8uDYJ_Yt",
        "outputId": "5e213286-eb8b-4079-fb8f-86eb7856fc0f"
      },
      "execution_count": null,
      "outputs": [
        {
          "output_type": "execute_result",
          "data": {
            "text/plain": [
              "array([[2, 1],\n",
              "       [2, 1],\n",
              "       [2, 1]])"
            ]
          },
          "metadata": {},
          "execution_count": 27
        }
      ]
    },
    {
      "cell_type": "markdown",
      "source": [
        "# Element-wise Multiplication"
      ],
      "metadata": {
        "id": "QXDSF4zyKHH2"
      }
    },
    {
      "cell_type": "code",
      "source": [
        "A*B\n",
        "np.multiply(A,B)"
      ],
      "metadata": {
        "colab": {
          "base_uri": "https://localhost:8080/"
        },
        "id": "mEv447vqKKWt",
        "outputId": "2f849c1c-b54b-45be-ee81-e97b9948d0b8"
      },
      "execution_count": null,
      "outputs": [
        {
          "output_type": "execute_result",
          "data": {
            "text/plain": [
              "array([[ 9,  6],\n",
              "       [ 5,  8],\n",
              "       [ 6, 18]])"
            ]
          },
          "metadata": {},
          "execution_count": 28
        }
      ]
    },
    {
      "cell_type": "code",
      "source": [
        "2*A"
      ],
      "metadata": {
        "colab": {
          "base_uri": "https://localhost:8080/"
        },
        "id": "ZSe1uvw7KR4_",
        "outputId": "434e1628-e62b-4c6a-dd06-4f81a6bc8f12"
      },
      "execution_count": null,
      "outputs": [
        {
          "output_type": "execute_result",
          "data": {
            "text/plain": [
              "array([[18,  6],\n",
              "       [10,  8],\n",
              "       [12, 18]])"
            ]
          },
          "metadata": {},
          "execution_count": 29
        }
      ]
    },
    {
      "cell_type": "markdown",
      "source": [
        "#ACTIVITY 1"
      ],
      "metadata": {
        "id": "ho6nBwibeFci"
      }
    },
    {
      "cell_type": "code",
      "source": [
        "import numpy as np\n",
        "import matplotlib.pyplot as plt\n",
        "import scipy.linalg as la\n",
        "%matplotlib inline"
      ],
      "metadata": {
        "id": "g2DqPV9fhArb"
      },
      "execution_count": null,
      "outputs": []
    },
    {
      "cell_type": "code",
      "source": [
        "def mat_desc(matrix):\n",
        "    print(f'Matrix:\\n{matrix}\\n\\nShape:\\t{matrix.shape}\\nRank:\\t{matrix.ndim}\\n\\nSize:\\t{matrix.size}\\n')"
      ],
      "metadata": {
        "id": "m9Pt3yLCfkHp"
      },
      "execution_count": null,
      "outputs": []
    },
    {
      "cell_type": "code",
      "source": [
        "A = np.array ([\n",
        "    [1, 2,5,7],\n",
        "    [3, 1,6,2],\n",
        "    [5, 8,3,1] \n",
        "])\n",
        "mat_desc(A)"
      ],
      "metadata": {
        "colab": {
          "base_uri": "https://localhost:8080/"
        },
        "id": "vIBzZ6pFhE87",
        "outputId": "daca05cd-12d2-45bb-aae0-a7a93947e3d6"
      },
      "execution_count": null,
      "outputs": [
        {
          "output_type": "stream",
          "name": "stdout",
          "text": [
            "Matrix:\n",
            "[[1 2 5 7]\n",
            " [3 1 6 2]\n",
            " [5 8 3 1]]\n",
            "\n",
            "Shape:\t(3, 4)\n",
            "Rank:\t2\n",
            "\n",
            "Size:\t12\n",
            "\n"
          ]
        }
      ]
    },
    {
      "cell_type": "code",
      "source": [
        "B = np.array ([\n",
        "    [9, 5,6,10],\n",
        "    [2, 9,4,6],\n",
        "    [6, 7,5,4],\n",
        "    [5, 8, 3, 1]\n",
        "])\n",
        "mat_desc(B)"
      ],
      "metadata": {
        "colab": {
          "base_uri": "https://localhost:8080/"
        },
        "id": "2srjxTxNhJr5",
        "outputId": "d3288f2c-19e6-487e-ad5e-7ed9e06310df"
      },
      "execution_count": null,
      "outputs": [
        {
          "output_type": "stream",
          "name": "stdout",
          "text": [
            "Matrix:\n",
            "[[ 9  5  6 10]\n",
            " [ 2  9  4  6]\n",
            " [ 6  7  5  4]\n",
            " [ 5  8  3  1]]\n",
            "\n",
            "Shape:\t(4, 4)\n",
            "Rank:\t2\n",
            "\n",
            "Size:\t16\n",
            "\n"
          ]
        }
      ]
    },
    {
      "cell_type": "code",
      "source": [
        "C = np.array([\n",
        "    [8, 2,4,6,3],\n",
        "    [9, 4,3,5,6],\n",
        "    [1, 5,3,9,7],\n",
        "    [1, 9,8,1,5],\n",
        "    [9, 4,3,5,6]\n",
        "])\n",
        "mat_desc(C)"
      ],
      "metadata": {
        "colab": {
          "base_uri": "https://localhost:8080/"
        },
        "id": "-tPD1JXAhlps",
        "outputId": "0f6d0b22-9061-453e-8610-0b02d2c1668b"
      },
      "execution_count": null,
      "outputs": [
        {
          "output_type": "stream",
          "name": "stdout",
          "text": [
            "Matrix:\n",
            "[[8 2 4 6 3]\n",
            " [9 4 3 5 6]\n",
            " [1 5 3 9 7]\n",
            " [1 9 8 1 5]\n",
            " [9 4 3 5 6]]\n",
            "\n",
            "Shape:\t(5, 5)\n",
            "Rank:\t2\n",
            "\n",
            "Size:\t25\n",
            "\n"
          ]
        }
      ]
    },
    {
      "cell_type": "code",
      "source": [
        "def mat_desc(matrix):\n",
        "   if(matrix.shape[0] == matrix.shape[1]):\n",
        "     square =True\n",
        "     print('Matrix is square')\n",
        "   else:\n",
        "     print('Matrix is non square')"
      ],
      "metadata": {
        "id": "r4_mRMSym8H9"
      },
      "execution_count": null,
      "outputs": []
    },
    {
      "cell_type": "code",
      "source": [
        "sqr = np.array([\n",
        "    [6,5,7],\n",
        "    [2,5,9],\n",
        "    [2,4,8]\n",
        "])\n",
        "\n",
        "mat_desc(sqr)\n"
      ],
      "metadata": {
        "colab": {
          "base_uri": "https://localhost:8080/"
        },
        "id": "XyU9e8pinFce",
        "outputId": "82604b29-83ba-44f4-b86d-9d97b9cb3697"
      },
      "execution_count": null,
      "outputs": [
        {
          "output_type": "stream",
          "name": "stdout",
          "text": [
            "Matrix is square\n"
          ]
        }
      ]
    },
    {
      "cell_type": "code",
      "source": [
        "sqr = np.array([\n",
        "    [1,2,5,1,5],\n",
        "    [3,3,8,2,6],\n",
        "    [2,4,8,6,8],\n",
        "    [5,5,6,6,9],\n",
        "    [9,7,4,6,2]\n",
        "\n",
        "])\n",
        "mat_desc(sqr)"
      ],
      "metadata": {
        "colab": {
          "base_uri": "https://localhost:8080/"
        },
        "id": "2m27Vbjcns96",
        "outputId": "db516a6f-538c-4896-b3b7-14ea4c74abc2"
      },
      "execution_count": null,
      "outputs": [
        {
          "output_type": "stream",
          "name": "stdout",
          "text": [
            "Matrix is square\n"
          ]
        }
      ]
    },
    {
      "cell_type": "code",
      "source": [
        "sqr = np.array([\n",
        "    [1,2,5,1,5,9],\n",
        "    [3,3,8,2,6,8],\n",
        "    [2,4,8,6,8,3],\n",
        "    [5,5,6,6,9,1],\n",
        "    [9,7,4,6,2,9]\n",
        "\n",
        "])\n",
        "mat_desc(sqr)"
      ],
      "metadata": {
        "colab": {
          "base_uri": "https://localhost:8080/"
        },
        "id": "uFHK3aoEoJjU",
        "outputId": "5b7f2809-b013-4e7a-daf0-9f85978cae21"
      },
      "execution_count": null,
      "outputs": [
        {
          "output_type": "stream",
          "name": "stdout",
          "text": [
            "Matrix is non square\n"
          ]
        }
      ]
    },
    {
      "cell_type": "code",
      "source": [
        "def mat_desc(matrix):\n",
        "  if(matrix.size > 0):\n",
        "    is_square = True if matrix.shape[0] == matrix.shape[1] else False\n",
        "    print('Matrix is not empty')\n",
        "  else:\n",
        "    print('Matrix is empty')"
      ],
      "metadata": {
        "id": "SMVJ42eFseEu"
      },
      "execution_count": null,
      "outputs": []
    },
    {
      "cell_type": "code",
      "source": [
        "empty_mat = np.array([])\n",
        "mat_desc(empty_mat)"
      ],
      "metadata": {
        "colab": {
          "base_uri": "https://localhost:8080/"
        },
        "id": "eQs3zrz0soeB",
        "outputId": "3f4d0ef5-97d4-494c-d14a-bc397600544f"
      },
      "execution_count": null,
      "outputs": [
        {
          "output_type": "stream",
          "name": "stdout",
          "text": [
            "Matrix is empty\n"
          ]
        }
      ]
    },
    {
      "cell_type": "code",
      "source": [
        "empty_mat = np.array([\n",
        "    [1,2,5,1,5,9],\n",
        "    [3,3,8,2,6,8],\n",
        "    [2,4,8,6,8,3],\n",
        "    [5,5,6,6,9,1],\n",
        "    [9,7,4,6,2,9]\n",
        "\n",
        "])\n",
        "mat_desc(empty_mat)"
      ],
      "metadata": {
        "colab": {
          "base_uri": "https://localhost:8080/"
        },
        "id": "yZAHyKTKxuVB",
        "outputId": "b41631f2-6112-4c6a-d83f-3d3c27e8c5eb"
      },
      "execution_count": null,
      "outputs": [
        {
          "output_type": "stream",
          "name": "stdout",
          "text": [
            "Matrix is not empty\n"
          ]
        }
      ]
    },
    {
      "cell_type": "code",
      "source": [
        "empty_mat = np.array([\n",
        "    [2,2,5,1,4,3],\n",
        "    [3,9,6,2,8,9]\n",
        "\n",
        "])\n",
        "mat_desc(empty_mat)"
      ],
      "metadata": {
        "colab": {
          "base_uri": "https://localhost:8080/"
        },
        "id": "NN3Z8Ak9x1TR",
        "outputId": "1b9519d7-0485-4de8-87b9-b22eecce5821"
      },
      "execution_count": null,
      "outputs": [
        {
          "output_type": "stream",
          "name": "stdout",
          "text": [
            "Matrix is not empty\n"
          ]
        }
      ]
    },
    {
      "cell_type": "code",
      "source": [
        "def mat_desc(matrix):\n",
        "  zeros = np.zeros((matrix.shape[0], matrix.shape[1]))\n",
        "  if((zeros == matrix).all()):\n",
        "    print('Matrix is zero')\n",
        "  else:\n",
        "    print('Matrix is not zero')"
      ],
      "metadata": {
        "id": "9tisx3zvmdFj"
      },
      "execution_count": null,
      "outputs": []
    },
    {
      "cell_type": "code",
      "source": [
        "zeros = np.array([\n",
        "      [1,5,4],\n",
        "      [1,2,3]\n",
        "  \n",
        "])\n",
        "mat_desc(zeros)"
      ],
      "metadata": {
        "colab": {
          "base_uri": "https://localhost:8080/"
        },
        "id": "CbSmm1UZtixr",
        "outputId": "6030d388-b591-4298-dcc6-c79cdbcacd56"
      },
      "execution_count": null,
      "outputs": [
        {
          "output_type": "stream",
          "name": "stdout",
          "text": [
            "Matrix is not zero\n"
          ]
        }
      ]
    },
    {
      "cell_type": "markdown",
      "source": [
        "## Task 2"
      ],
      "metadata": {
        "id": "XokMD9Tw3C6y"
      }
    },
    {
      "cell_type": "code",
      "source": [
        "def mat_operations(matrix1, matrix2):\n",
        "  matrix1 = np.array(matrix1)\n",
        "  matrix2 = np.array(matrix2)\n",
        "  print('Matrix 1 entries are:\\n',matrix1)\n",
        "  print('Matrix 2 entries are:\\n', matrix2)\n",
        "  if(matrix1.shape != matrix2.shape):\n",
        "    print('A non-square matrix cannot perform an operation')\n",
        "    return\n",
        "  print('Sum:')\n",
        "  summ=matrix1+matrix2\n",
        "  print(summ)\n",
        "  print('Difference:')\n",
        "  diff= matrix1-matrix2\n",
        "  print(diff)\n",
        "  print('Element-wise multiplication:') \n",
        "  ewm = matrix1*matrix2\n",
        "  print(ewm)\n",
        "  print('Element-wise division:')\n",
        "  ewd = matrix1/matrix2\n",
        "  print(ewd)"
      ],
      "metadata": {
        "id": "CYqJAwacECPl"
      },
      "execution_count": null,
      "outputs": []
    },
    {
      "cell_type": "code",
      "source": [
        "mat_operations([\n",
        "    [2,1,6,1,2,5], \n",
        "    [6,7,7,2,3,9],\n",
        "    [3,3,9,6,7,4],\n",
        "    [3,4,6,6,5,6]],\n",
        "\n",
        "    [[1,2,2,3,9,3], \n",
        "    [1,2,2,1,1,4],\n",
        "    [1,2,1,3,1,5],\n",
        "    [3,6,9,6,7,6]]) \n",
        "\n"
      ],
      "metadata": {
        "colab": {
          "base_uri": "https://localhost:8080/"
        },
        "id": "viy63MEX6Ank",
        "outputId": "c063bc1b-0efd-4c97-b1a6-36f2ba46e012"
      },
      "execution_count": null,
      "outputs": [
        {
          "output_type": "stream",
          "name": "stdout",
          "text": [
            "Matrix 1 entries are:\n",
            " [[2 1 6 1 2 5]\n",
            " [6 7 7 2 3 9]\n",
            " [3 3 9 6 7 4]\n",
            " [3 4 6 6 5 6]]\n",
            "Matrix 2 entries are:\n",
            " [[1 2 2 3 9 3]\n",
            " [1 2 2 1 1 4]\n",
            " [1 2 1 3 1 5]\n",
            " [3 6 9 6 7 6]]\n",
            "Sum:\n",
            "[[ 3  3  8  4 11  8]\n",
            " [ 7  9  9  3  4 13]\n",
            " [ 4  5 10  9  8  9]\n",
            " [ 6 10 15 12 12 12]]\n",
            "Difference:\n",
            "[[ 1 -1  4 -2 -7  2]\n",
            " [ 5  5  5  1  2  5]\n",
            " [ 2  1  8  3  6 -1]\n",
            " [ 0 -2 -3  0 -2  0]]\n",
            "Element-wise multiplication:\n",
            "[[ 2  2 12  3 18 15]\n",
            " [ 6 14 14  2  3 36]\n",
            " [ 3  6  9 18  7 20]\n",
            " [ 9 24 54 36 35 36]]\n",
            "Element-wise division:\n",
            "[[2.         0.5        3.         0.33333333 0.22222222 1.66666667]\n",
            " [6.         3.5        3.5        2.         3.         2.25      ]\n",
            " [3.         1.5        9.         2.         7.         0.8       ]\n",
            " [1.         0.66666667 0.66666667 1.         0.71428571 1.        ]]\n"
          ]
        }
      ]
    },
    {
      "cell_type": "code",
      "source": [
        "mat_operations([\n",
        "    [2,1,6], \n",
        "    [6,7,7],\n",
        "    [3,3,9],\n",
        "    [3,4,6]],\n",
        "\n",
        "    [[1,2,2], \n",
        "    [1,2,2],\n",
        "    [1,2,1],\n",
        "    [3,6,9]]) "
      ],
      "metadata": {
        "colab": {
          "base_uri": "https://localhost:8080/"
        },
        "id": "9-DKsyWZ-xtL",
        "outputId": "eb95fbd2-bdf5-4cd7-f7a9-64cba9740195"
      },
      "execution_count": null,
      "outputs": [
        {
          "output_type": "stream",
          "name": "stdout",
          "text": [
            "Matrix 1 entries are:\n",
            " [[2 1 6]\n",
            " [6 7 7]\n",
            " [3 3 9]\n",
            " [3 4 6]]\n",
            "Matrix 2 entries are:\n",
            " [[1 2 2]\n",
            " [1 2 2]\n",
            " [1 2 1]\n",
            " [3 6 9]]\n",
            "Sum:\n",
            "[[ 3  3  8]\n",
            " [ 7  9  9]\n",
            " [ 4  5 10]\n",
            " [ 6 10 15]]\n",
            "Difference:\n",
            "[[ 1 -1  4]\n",
            " [ 5  5  5]\n",
            " [ 2  1  8]\n",
            " [ 0 -2 -3]]\n",
            "Element-wise multiplication:\n",
            "[[ 2  2 12]\n",
            " [ 6 14 14]\n",
            " [ 3  6  9]\n",
            " [ 9 24 54]]\n",
            "Element-wise division:\n",
            "[[2.         0.5        3.        ]\n",
            " [6.         3.5        3.5       ]\n",
            " [3.         1.5        9.        ]\n",
            " [1.         0.66666667 0.66666667]]\n"
          ]
        }
      ]
    },
    {
      "cell_type": "code",
      "source": [
        "mat_operations([\n",
        "    [2,1,6,5], \n",
        "    [6,7,7,1],\n",
        "    [3,3,9,3],\n",
        "    [3,4,6,9]],\n",
        "\n",
        "    [[1,2,2,2], \n",
        "    [1,2,2,4],\n",
        "    [1,2,1,8],\n",
        "    [3,6,9,5]]) "
      ],
      "metadata": {
        "colab": {
          "base_uri": "https://localhost:8080/"
        },
        "id": "_bUA3A8cDYk0",
        "outputId": "b0d5d118-cc65-457f-a9a6-78ddf70c2652"
      },
      "execution_count": null,
      "outputs": [
        {
          "output_type": "stream",
          "name": "stdout",
          "text": [
            "Matrix 1 entries are:\n",
            " [[2 1 6 5]\n",
            " [6 7 7 1]\n",
            " [3 3 9 3]\n",
            " [3 4 6 9]]\n",
            "Matrix 2 entries are:\n",
            " [[1 2 2 2]\n",
            " [1 2 2 4]\n",
            " [1 2 1 8]\n",
            " [3 6 9 5]]\n",
            "Sum:\n",
            "[[ 3  3  8  7]\n",
            " [ 7  9  9  5]\n",
            " [ 4  5 10 11]\n",
            " [ 6 10 15 14]]\n",
            "Difference:\n",
            "[[ 1 -1  4  3]\n",
            " [ 5  5  5 -3]\n",
            " [ 2  1  8 -5]\n",
            " [ 0 -2 -3  4]]\n",
            "Element-wise multiplication:\n",
            "[[ 2  2 12 10]\n",
            " [ 6 14 14  4]\n",
            " [ 3  6  9 24]\n",
            " [ 9 24 54 45]]\n",
            "Element-wise division:\n",
            "[[2.         0.5        3.         2.5       ]\n",
            " [6.         3.5        3.5        0.25      ]\n",
            " [3.         1.5        9.         0.375     ]\n",
            " [1.         0.66666667 0.66666667 1.8       ]]\n"
          ]
        }
      ]
    }
  ]
}